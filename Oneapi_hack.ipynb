{
 "cells": [
  {
   "cell_type": "code",
   "execution_count": 35,
   "id": "758848ac-94df-4dea-b2ca-726f4ac4796d",
   "metadata": {},
   "outputs": [
    {
     "name": "stdout",
     "output_type": "stream",
     "text": [
      "Defaulting to user installation because normal site-packages is not writeable\n",
      "Requirement already satisfied: xgboost in /glob/development-tools/versions/oneapi/2023.0.1/oneapi/intelpython/python3.9/lib/python3.9/site-packages (1.6.0.dev0)\n",
      "Requirement already satisfied: numpy in /glob/development-tools/versions/oneapi/2023.0.1/oneapi/intelpython/python3.9/lib/python3.9/site-packages (from xgboost) (1.22.3)\n",
      "Requirement already satisfied: scipy in /glob/development-tools/versions/oneapi/2023.0.1/oneapi/intelpython/python3.9/lib/python3.9/site-packages (from xgboost) (1.7.3)\n",
      "Note: you may need to restart the kernel to use updated packages.\n"
     ]
    }
   ],
   "source": [
    "pip install xgboost"
   ]
  },
  {
   "cell_type": "code",
   "execution_count": 44,
   "id": "79dd7974-2533-46f3-bfc7-6fc3015ffc53",
   "metadata": {},
   "outputs": [
    {
     "name": "stderr",
     "output_type": "stream",
     "text": [
      "/opt/intel/inteloneapi/intelpython/latest/lib/python3.9/site-packages/xgboost/compat.py:36: FutureWarning: pandas.Int64Index is deprecated and will be removed from pandas in a future version. Use pandas.Index with the appropriate dtype instead.\n",
      "  from pandas import MultiIndex, Int64Index\n"
     ]
    }
   ],
   "source": [
    "import numpy as np # linear algebra\n",
    "import pandas as pd # data processing, CSV file I/O (e.g. pd.read_csv)\n",
    "import matplotlib.pyplot as plt\n",
    "import seaborn as sns\n",
    "\n",
    "import xgboost as xgb\n",
    "from sklearn.metrics import mean_squared_error\n",
    "import os\n",
    "for dirname, _, filenames in os.walk('/kaggle/input'):\n",
    "    for filename in filenames:\n",
    "        print(os.path.join(dirname, filename))"
   ]
  },
  {
   "cell_type": "code",
   "execution_count": 4,
   "id": "296f19f6-920c-49f4-93f7-6d1d6fb4474a",
   "metadata": {},
   "outputs": [],
   "source": [
    "df = pd.read_csv(\"Dataset.csv\")"
   ]
  },
  {
   "cell_type": "code",
   "execution_count": 5,
   "id": "9809ef1d-2013-4f1c-82d4-5d6c076fc4d2",
   "metadata": {},
   "outputs": [
    {
     "data": {
      "text/html": [
       "<div>\n",
       "<style scoped>\n",
       "    .dataframe tbody tr th:only-of-type {\n",
       "        vertical-align: middle;\n",
       "    }\n",
       "\n",
       "    .dataframe tbody tr th {\n",
       "        vertical-align: top;\n",
       "    }\n",
       "\n",
       "    .dataframe thead th {\n",
       "        text-align: right;\n",
       "    }\n",
       "</style>\n",
       "<table border=\"1\" class=\"dataframe\">\n",
       "  <thead>\n",
       "    <tr style=\"text-align: right;\">\n",
       "      <th></th>\n",
       "      <th>Date</th>\n",
       "      <th>BTC</th>\n",
       "      <th>NYSE</th>\n",
       "      <th>NASDAQ</th>\n",
       "      <th>LSE</th>\n",
       "      <th>BTC_Volume</th>\n",
       "      <th>NYSE_Volume</th>\n",
       "      <th>NASDAQ_Volume</th>\n",
       "      <th>LSE_Volume</th>\n",
       "    </tr>\n",
       "  </thead>\n",
       "  <tbody>\n",
       "    <tr>\n",
       "      <th>0</th>\n",
       "      <td>1/2/2018</td>\n",
       "      <td>14982.09961</td>\n",
       "      <td>12902.71973</td>\n",
       "      <td>7006.899902</td>\n",
       "      <td>3742.0</td>\n",
       "      <td>1.684660e+10</td>\n",
       "      <td>3397430000</td>\n",
       "      <td>1929700000</td>\n",
       "      <td>497857</td>\n",
       "    </tr>\n",
       "    <tr>\n",
       "      <th>1</th>\n",
       "      <td>1/3/2018</td>\n",
       "      <td>15201.00000</td>\n",
       "      <td>12957.28027</td>\n",
       "      <td>7065.529785</td>\n",
       "      <td>3749.0</td>\n",
       "      <td>1.687190e+10</td>\n",
       "      <td>3544030000</td>\n",
       "      <td>2173130000</td>\n",
       "      <td>1009997</td>\n",
       "    </tr>\n",
       "    <tr>\n",
       "      <th>2</th>\n",
       "      <td>1/4/2018</td>\n",
       "      <td>15599.20020</td>\n",
       "      <td>13028.45996</td>\n",
       "      <td>7077.910156</td>\n",
       "      <td>3749.0</td>\n",
       "      <td>2.178320e+10</td>\n",
       "      <td>3697340000</td>\n",
       "      <td>2103220000</td>\n",
       "      <td>669448</td>\n",
       "    </tr>\n",
       "    <tr>\n",
       "      <th>3</th>\n",
       "      <td>1/5/2018</td>\n",
       "      <td>17429.50000</td>\n",
       "      <td>13103.23047</td>\n",
       "      <td>7136.560059</td>\n",
       "      <td>3758.0</td>\n",
       "      <td>2.384090e+10</td>\n",
       "      <td>3239280000</td>\n",
       "      <td>2024000000</td>\n",
       "      <td>2225274</td>\n",
       "    </tr>\n",
       "    <tr>\n",
       "      <th>4</th>\n",
       "      <td>1/8/2018</td>\n",
       "      <td>15170.09961</td>\n",
       "      <td>13114.34961</td>\n",
       "      <td>7157.390137</td>\n",
       "      <td>3744.0</td>\n",
       "      <td>1.841390e+10</td>\n",
       "      <td>3246160000</td>\n",
       "      <td>2055010000</td>\n",
       "      <td>930995</td>\n",
       "    </tr>\n",
       "  </tbody>\n",
       "</table>\n",
       "</div>"
      ],
      "text/plain": [
       "       Date          BTC         NYSE       NASDAQ     LSE    BTC_Volume  \\\n",
       "0  1/2/2018  14982.09961  12902.71973  7006.899902  3742.0  1.684660e+10   \n",
       "1  1/3/2018  15201.00000  12957.28027  7065.529785  3749.0  1.687190e+10   \n",
       "2  1/4/2018  15599.20020  13028.45996  7077.910156  3749.0  2.178320e+10   \n",
       "3  1/5/2018  17429.50000  13103.23047  7136.560059  3758.0  2.384090e+10   \n",
       "4  1/8/2018  15170.09961  13114.34961  7157.390137  3744.0  1.841390e+10   \n",
       "\n",
       "   NYSE_Volume  NASDAQ_Volume  LSE_Volume  \n",
       "0   3397430000     1929700000      497857  \n",
       "1   3544030000     2173130000     1009997  \n",
       "2   3697340000     2103220000      669448  \n",
       "3   3239280000     2024000000     2225274  \n",
       "4   3246160000     2055010000      930995  "
      ]
     },
     "execution_count": 5,
     "metadata": {},
     "output_type": "execute_result"
    }
   ],
   "source": [
    "df.head()"
   ]
  },
  {
   "cell_type": "code",
   "execution_count": 6,
   "id": "b34c206c-6f0b-403e-8498-7f8632bad9f0",
   "metadata": {},
   "outputs": [
    {
     "data": {
      "text/html": [
       "<div>\n",
       "<style scoped>\n",
       "    .dataframe tbody tr th:only-of-type {\n",
       "        vertical-align: middle;\n",
       "    }\n",
       "\n",
       "    .dataframe tbody tr th {\n",
       "        vertical-align: top;\n",
       "    }\n",
       "\n",
       "    .dataframe thead th {\n",
       "        text-align: right;\n",
       "    }\n",
       "</style>\n",
       "<table border=\"1\" class=\"dataframe\">\n",
       "  <thead>\n",
       "    <tr style=\"text-align: right;\">\n",
       "      <th></th>\n",
       "      <th>Date</th>\n",
       "      <th>BTC</th>\n",
       "      <th>NYSE</th>\n",
       "      <th>NASDAQ</th>\n",
       "      <th>LSE</th>\n",
       "      <th>BTC_Volume</th>\n",
       "      <th>NYSE_Volume</th>\n",
       "      <th>NASDAQ_Volume</th>\n",
       "      <th>LSE_Volume</th>\n",
       "    </tr>\n",
       "  </thead>\n",
       "  <tbody>\n",
       "    <tr>\n",
       "      <th>1254</th>\n",
       "      <td>12/23/2022</td>\n",
       "      <td>16796.95313</td>\n",
       "      <td>15188.45020</td>\n",
       "      <td>10497.86035</td>\n",
       "      <td>7130.0</td>\n",
       "      <td>1.532927e+10</td>\n",
       "      <td>2819280000</td>\n",
       "      <td>3544680000</td>\n",
       "      <td>141614</td>\n",
       "    </tr>\n",
       "    <tr>\n",
       "      <th>1255</th>\n",
       "      <td>12/27/2022</td>\n",
       "      <td>16717.17383</td>\n",
       "      <td>15218.25977</td>\n",
       "      <td>10353.23047</td>\n",
       "      <td>7130.0</td>\n",
       "      <td>1.574858e+10</td>\n",
       "      <td>3030300000</td>\n",
       "      <td>3827290000</td>\n",
       "      <td>141614</td>\n",
       "    </tr>\n",
       "    <tr>\n",
       "      <th>1256</th>\n",
       "      <td>12/28/2022</td>\n",
       "      <td>16552.57227</td>\n",
       "      <td>15037.32031</td>\n",
       "      <td>10213.29004</td>\n",
       "      <td>7128.0</td>\n",
       "      <td>1.700571e+10</td>\n",
       "      <td>3083520000</td>\n",
       "      <td>3842970000</td>\n",
       "      <td>490323</td>\n",
       "    </tr>\n",
       "    <tr>\n",
       "      <th>1257</th>\n",
       "      <td>12/29/2022</td>\n",
       "      <td>16642.34180</td>\n",
       "      <td>15241.20996</td>\n",
       "      <td>10478.08984</td>\n",
       "      <td>7212.0</td>\n",
       "      <td>1.447224e+10</td>\n",
       "      <td>3003680000</td>\n",
       "      <td>4154100000</td>\n",
       "      <td>457006</td>\n",
       "    </tr>\n",
       "    <tr>\n",
       "      <th>1258</th>\n",
       "      <td>12/30/2022</td>\n",
       "      <td>16602.58594</td>\n",
       "      <td>15184.30957</td>\n",
       "      <td>10466.48047</td>\n",
       "      <td>7136.0</td>\n",
       "      <td>1.592916e+10</td>\n",
       "      <td>2979870000</td>\n",
       "      <td>3959030000</td>\n",
       "      <td>226505</td>\n",
       "    </tr>\n",
       "  </tbody>\n",
       "</table>\n",
       "</div>"
      ],
      "text/plain": [
       "            Date          BTC         NYSE       NASDAQ     LSE    BTC_Volume  \\\n",
       "1254  12/23/2022  16796.95313  15188.45020  10497.86035  7130.0  1.532927e+10   \n",
       "1255  12/27/2022  16717.17383  15218.25977  10353.23047  7130.0  1.574858e+10   \n",
       "1256  12/28/2022  16552.57227  15037.32031  10213.29004  7128.0  1.700571e+10   \n",
       "1257  12/29/2022  16642.34180  15241.20996  10478.08984  7212.0  1.447224e+10   \n",
       "1258  12/30/2022  16602.58594  15184.30957  10466.48047  7136.0  1.592916e+10   \n",
       "\n",
       "      NYSE_Volume  NASDAQ_Volume  LSE_Volume  \n",
       "1254   2819280000     3544680000      141614  \n",
       "1255   3030300000     3827290000      141614  \n",
       "1256   3083520000     3842970000      490323  \n",
       "1257   3003680000     4154100000      457006  \n",
       "1258   2979870000     3959030000      226505  "
      ]
     },
     "execution_count": 6,
     "metadata": {},
     "output_type": "execute_result"
    }
   ],
   "source": [
    "df.tail()"
   ]
  },
  {
   "cell_type": "code",
   "execution_count": 7,
   "id": "99b6adcc-1dd3-4941-8c52-ad4e0da7104d",
   "metadata": {},
   "outputs": [
    {
     "name": "stdout",
     "output_type": "stream",
     "text": [
      "<class 'pandas.core.frame.DataFrame'>\n",
      "RangeIndex: 1259 entries, 0 to 1258\n",
      "Data columns (total 9 columns):\n",
      " #   Column         Non-Null Count  Dtype  \n",
      "---  ------         --------------  -----  \n",
      " 0   Date           1259 non-null   object \n",
      " 1   BTC            1259 non-null   float64\n",
      " 2   NYSE           1259 non-null   float64\n",
      " 3   NASDAQ         1259 non-null   float64\n",
      " 4   LSE            1259 non-null   float64\n",
      " 5   BTC_Volume     1259 non-null   float64\n",
      " 6   NYSE_Volume    1259 non-null   int64  \n",
      " 7   NASDAQ_Volume  1259 non-null   int64  \n",
      " 8   LSE_Volume     1259 non-null   int64  \n",
      "dtypes: float64(5), int64(3), object(1)\n",
      "memory usage: 88.6+ KB\n"
     ]
    }
   ],
   "source": [
    "df.info()"
   ]
  },
  {
   "cell_type": "code",
   "execution_count": 8,
   "id": "47c1f40d-dfcb-4b99-9a95-2571eae0a9d4",
   "metadata": {},
   "outputs": [
    {
     "data": {
      "text/html": [
       "<div>\n",
       "<style scoped>\n",
       "    .dataframe tbody tr th:only-of-type {\n",
       "        vertical-align: middle;\n",
       "    }\n",
       "\n",
       "    .dataframe tbody tr th {\n",
       "        vertical-align: top;\n",
       "    }\n",
       "\n",
       "    .dataframe thead th {\n",
       "        text-align: right;\n",
       "    }\n",
       "</style>\n",
       "<table border=\"1\" class=\"dataframe\">\n",
       "  <thead>\n",
       "    <tr style=\"text-align: right;\">\n",
       "      <th></th>\n",
       "      <th>BTC</th>\n",
       "      <th>NYSE</th>\n",
       "      <th>NASDAQ</th>\n",
       "      <th>LSE</th>\n",
       "      <th>BTC_Volume</th>\n",
       "      <th>NYSE_Volume</th>\n",
       "      <th>NASDAQ_Volume</th>\n",
       "      <th>LSE_Volume</th>\n",
       "    </tr>\n",
       "  </thead>\n",
       "  <tbody>\n",
       "    <tr>\n",
       "      <th>count</th>\n",
       "      <td>1259.000000</td>\n",
       "      <td>1259.000000</td>\n",
       "      <td>1259.000000</td>\n",
       "      <td>1259.000000</td>\n",
       "      <td>1.259000e+03</td>\n",
       "      <td>1.259000e+03</td>\n",
       "      <td>1.259000e+03</td>\n",
       "      <td>1.259000e+03</td>\n",
       "    </tr>\n",
       "    <tr>\n",
       "      <th>mean</th>\n",
       "      <td>20364.167265</td>\n",
       "      <td>13970.639288</td>\n",
       "      <td>10434.897972</td>\n",
       "      <td>6744.801312</td>\n",
       "      <td>2.816945e+10</td>\n",
       "      <td>4.230836e+09</td>\n",
       "      <td>3.700598e+09</td>\n",
       "      <td>8.657402e+05</td>\n",
       "    </tr>\n",
       "    <tr>\n",
       "      <th>std</th>\n",
       "      <td>17006.251216</td>\n",
       "      <td>1767.351726</td>\n",
       "      <td>2797.163873</td>\n",
       "      <td>1637.805989</td>\n",
       "      <td>2.112494e+10</td>\n",
       "      <td>1.081698e+09</td>\n",
       "      <td>1.540865e+09</td>\n",
       "      <td>6.673056e+05</td>\n",
       "    </tr>\n",
       "    <tr>\n",
       "      <th>min</th>\n",
       "      <td>3242.484863</td>\n",
       "      <td>8777.379883</td>\n",
       "      <td>6192.919922</td>\n",
       "      <td>3649.000000</td>\n",
       "      <td>3.230550e+09</td>\n",
       "      <td>1.296530e+09</td>\n",
       "      <td>9.589500e+08</td>\n",
       "      <td>1.402000e+04</td>\n",
       "    </tr>\n",
       "    <tr>\n",
       "      <th>25%</th>\n",
       "      <td>7774.829589</td>\n",
       "      <td>12676.600100</td>\n",
       "      <td>7838.044922</td>\n",
       "      <td>4806.000000</td>\n",
       "      <td>1.381063e+10</td>\n",
       "      <td>3.523815e+09</td>\n",
       "      <td>2.242010e+09</td>\n",
       "      <td>5.001880e+05</td>\n",
       "    </tr>\n",
       "    <tr>\n",
       "      <th>50%</th>\n",
       "      <td>10944.585940</td>\n",
       "      <td>13300.269530</td>\n",
       "      <td>10207.629880</td>\n",
       "      <td>7254.000000</td>\n",
       "      <td>2.604323e+10</td>\n",
       "      <td>3.995250e+09</td>\n",
       "      <td>3.830200e+09</td>\n",
       "      <td>7.052710e+05</td>\n",
       "    </tr>\n",
       "    <tr>\n",
       "      <th>75%</th>\n",
       "      <td>33576.833985</td>\n",
       "      <td>15540.665040</td>\n",
       "      <td>13034.054690</td>\n",
       "      <td>7970.000000</td>\n",
       "      <td>3.767768e+10</td>\n",
       "      <td>4.683670e+09</td>\n",
       "      <td>4.699590e+09</td>\n",
       "      <td>1.027788e+06</td>\n",
       "    </tr>\n",
       "    <tr>\n",
       "      <th>max</th>\n",
       "      <td>67566.828130</td>\n",
       "      <td>17353.759770</td>\n",
       "      <td>16057.440430</td>\n",
       "      <td>9910.000000</td>\n",
       "      <td>3.509680e+11</td>\n",
       "      <td>9.976520e+09</td>\n",
       "      <td>1.162119e+10</td>\n",
       "      <td>1.117657e+07</td>\n",
       "    </tr>\n",
       "  </tbody>\n",
       "</table>\n",
       "</div>"
      ],
      "text/plain": [
       "                BTC          NYSE        NASDAQ          LSE    BTC_Volume  \\\n",
       "count   1259.000000   1259.000000   1259.000000  1259.000000  1.259000e+03   \n",
       "mean   20364.167265  13970.639288  10434.897972  6744.801312  2.816945e+10   \n",
       "std    17006.251216   1767.351726   2797.163873  1637.805989  2.112494e+10   \n",
       "min     3242.484863   8777.379883   6192.919922  3649.000000  3.230550e+09   \n",
       "25%     7774.829589  12676.600100   7838.044922  4806.000000  1.381063e+10   \n",
       "50%    10944.585940  13300.269530  10207.629880  7254.000000  2.604323e+10   \n",
       "75%    33576.833985  15540.665040  13034.054690  7970.000000  3.767768e+10   \n",
       "max    67566.828130  17353.759770  16057.440430  9910.000000  3.509680e+11   \n",
       "\n",
       "        NYSE_Volume  NASDAQ_Volume    LSE_Volume  \n",
       "count  1.259000e+03   1.259000e+03  1.259000e+03  \n",
       "mean   4.230836e+09   3.700598e+09  8.657402e+05  \n",
       "std    1.081698e+09   1.540865e+09  6.673056e+05  \n",
       "min    1.296530e+09   9.589500e+08  1.402000e+04  \n",
       "25%    3.523815e+09   2.242010e+09  5.001880e+05  \n",
       "50%    3.995250e+09   3.830200e+09  7.052710e+05  \n",
       "75%    4.683670e+09   4.699590e+09  1.027788e+06  \n",
       "max    9.976520e+09   1.162119e+10  1.117657e+07  "
      ]
     },
     "execution_count": 8,
     "metadata": {},
     "output_type": "execute_result"
    }
   ],
   "source": [
    "df.describe()"
   ]
  },
  {
   "cell_type": "code",
   "execution_count": 9,
   "id": "eceef62d-8fdc-4b5d-9d71-5432adb08df0",
   "metadata": {},
   "outputs": [],
   "source": [
    "df = df.set_index('Date')\n",
    "df.index = pd.to_datetime(df.index)"
   ]
  },
  {
   "cell_type": "code",
   "execution_count": 10,
   "id": "35493933-9b52-4658-927b-95173e84749c",
   "metadata": {},
   "outputs": [
    {
     "data": {
      "text/plain": [
       "17006.251216089884"
      ]
     },
     "execution_count": 10,
     "metadata": {},
     "output_type": "execute_result"
    }
   ],
   "source": [
    "df['BTC'].std()"
   ]
  },
  {
   "cell_type": "code",
   "execution_count": 12,
   "id": "ff63c286-ee1b-4fd4-b89e-9b344126a4cf",
   "metadata": {},
   "outputs": [
    {
     "data": {
      "image/png": "[encoded data removed]",
      "text/plain": [
       "<Figure size 1500x500 with 1 Axes>"
      ]
     },
     "metadata": {},
     "output_type": "display_data"
    }
   ],
   "source": [
    "df['BTC'].plot(style='.',\n",
    "        figsize=(15, 5), \n",
    "        title='BTC Price Over The Time')\n",
    "plt.show()"
   ]
  },
  {
   "cell_type": "code",
   "execution_count": 13,
   "id": "0ea109fd-aed2-4b5b-ba93-3d1d255693ed",
   "metadata": {},
   "outputs": [
    {
     "data": {
      "image/png": "[encoded data removed]",
      "text/plain": [
       "<Figure size 1500x500 with 1 Axes>"
      ]
     },
     "metadata": {},
     "output_type": "display_data"
    }
   ],
   "source": [
    "df['NYSE'].plot(style='.',\n",
    "        figsize=(15, 5), \n",
    "        title='NYSE Price Over The Time')\n",
    "plt.show()"
   ]
  },
  {
   "cell_type": "code",
   "execution_count": 14,
   "id": "ce72de97-3ff1-4159-a4d2-681526ac48d8",
   "metadata": {},
   "outputs": [
    {
     "data": {
      "image/png": "[encoded data removed]",
      "text/plain": [
       "<Figure size 1500x500 with 1 Axes>"
      ]
     },
     "metadata": {},
     "output_type": "display_data"
    }
   ],
   "source": [
    "df['NASDAQ'].plot(style='.',\n",
    "        figsize=(15, 5), \n",
    "        title='NASDAQ Price Over The Time')\n",
    "plt.show()"
   ]
  },
  {
   "cell_type": "code",
   "execution_count": 15,
   "id": "85ed2343-4f93-4063-810f-8b6a2d25265a",
   "metadata": {},
   "outputs": [
    {
     "data": {
      "text/plain": [
       "<AxesSubplot: ylabel='Frequency'>"
      ]
     },
     "execution_count": 15,
     "metadata": {},
     "output_type": "execute_result"
    },
    {
     "data": {
      "image/png": "[encoded data removed]",
      "text/plain": [
       "<Figure size 640x480 with 1 Axes>"
      ]
     },
     "metadata": {},
     "output_type": "display_data"
    }
   ],
   "source": [
    "df['BTC'].plot(kind='hist', bins=500)"
   ]
  },
  {
   "cell_type": "code",
   "execution_count": 16,
   "id": "34ec823e-a15f-4f35-b694-455bd4e1299e",
   "metadata": {},
   "outputs": [],
   "source": [
    "df['BTC'] = np.log1p(df['BTC'])"
   ]
  },
  {
   "cell_type": "code",
   "execution_count": 17,
   "id": "a963422e-ee61-4d0a-8b6c-8020c14f6041",
   "metadata": {},
   "outputs": [
    {
     "data": {
      "text/plain": [
       "<AxesSubplot: ylabel='Frequency'>"
      ]
     },
     "execution_count": 17,
     "metadata": {},
     "output_type": "execute_result"
    },
    {
     "data": {
      "image/png": "[encoded data removed]",
      "text/plain": [
       "<Figure size 640x480 with 1 Axes>"
      ]
     },
     "metadata": {},
     "output_type": "display_data"
    }
   ],
   "source": [
    "df['BTC'].plot(kind='hist', bins=500)"
   ]
  },
  {
   "cell_type": "code",
   "execution_count": 18,
   "id": "69de01dd-8d67-40bb-8e37-95800e2afc08",
   "metadata": {},
   "outputs": [
    {
     "data": {
      "text/plain": [
       "<AxesSubplot: ylabel='Frequency'>"
      ]
     },
     "execution_count": 18,
     "metadata": {},
     "output_type": "execute_result"
    },
    {
     "data": {
      "image/png": "[encoded data removed]",
      "text/plain": [
       "<Figure size 640x480 with 1 Axes>"
      ]
     },
     "metadata": {},
     "output_type": "display_data"
    }
   ],
   "source": [
    "df['NASDAQ'].plot(kind='hist', bins=500)"
   ]
  },
  {
   "cell_type": "code",
   "execution_count": 39,
   "id": "279aa7ce-7dc1-4c01-9e57-ba6159331a58",
   "metadata": {},
   "outputs": [
    {
     "data": {
      "text/plain": [
       "<AxesSubplot: ylabel='Frequency'>"
      ]
     },
     "execution_count": 39,
     "metadata": {},
     "output_type": "execute_result"
    },
    {
     "data": {
      "image/png": "[encoded data removed]",
      "text/plain": [
       "<Figure size 640x480 with 1 Axes>"
      ]
     },
     "metadata": {},
     "output_type": "display_data"
    }
   ],
   "source": [
    "df['NYSE'].plot(kind='hist', bins=500)"
   ]
  },
  {
   "cell_type": "code",
   "execution_count": 20,
   "id": "e546f5fe-eb2a-4d37-97e0-3faf38e2c0d1",
   "metadata": {},
   "outputs": [],
   "source": [
    "target_map = df['BTC'].to_dict()\n",
    "df['BTC+1'] = (df.index + pd.Timedelta('1 days')).map(target_map)\n",
    "df['BTC+1'] = df['BTC+1'].fillna(method = 'ffill')"
   ]
  },
  {
   "cell_type": "code",
   "execution_count": 21,
   "id": "ddbb2023-1452-4e49-a03d-389a68a3783b",
   "metadata": {},
   "outputs": [],
   "source": [
    "size = int(len(df) * 0.8)\n",
    "df_train = df.iloc[:size]\n",
    "df_test = df.iloc[size:]"
   ]
  },
  {
   "cell_type": "code",
   "execution_count": 22,
   "id": "1570f8e8-8a5f-4e6a-ac29-3b8c5d89023e",
   "metadata": {},
   "outputs": [
    {
     "data": {
      "image/png": "[encoded data removed]",
      "text/plain": [
       "<Figure size 1500x500 with 1 Axes>"
      ]
     },
     "metadata": {},
     "output_type": "display_data"
    }
   ],
   "source": [
    "fig, ax = plt.subplots(figsize=(15, 5))\n",
    "df_train['BTC'].plot(ax=ax, label='Training Set', title='Data Train/Test Split')\n",
    "df_test['BTC'].plot(ax=ax, label='Test Set')\n",
    "ax.axvline('2021-12-31', color='black', ls='--')\n",
    "ax.legend(['Training Set', 'Test Set'])\n",
    "plt.show()\n"
   ]
  },
  {
   "cell_type": "code",
   "execution_count": 23,
   "id": "3163af62-4a75-42fa-8ea8-ad91a5083f35",
   "metadata": {},
   "outputs": [],
   "source": [
    "def create_features(df):\n",
    "    \"\"\"\n",
    "    Create time series features based on time series index.\n",
    "    \"\"\"\n",
    "    df = df.copy()\n",
    "    df['hour'] = df.index.hour\n",
    "    df['dayofweek'] = df.index.dayofweek\n",
    "    df['quarter'] = df.index.quarter\n",
    "    df['month'] = df.index.month\n",
    "    df['year'] = df.index.year\n",
    "    df['dayofyear'] = df.index.dayofyear\n",
    "    df['dayofmonth'] = df.index.day\n",
    "    return df\n",
    "\n",
    "df = create_features(df)"
   ]
  },
  {
   "cell_type": "code",
   "execution_count": 24,
   "id": "ee7944d2-ea2b-4d7c-b174-ab145b504d35",
   "metadata": {},
   "outputs": [],
   "source": [
    "def add_lags(df):\n",
    "    target_map = df['BTC'].to_dict()\n",
    "    df['btc_lag1'] = (df.index - pd.Timedelta('1 days')).map(target_map)\n",
    "    df['btc_lag2'] = (df.index - pd.Timedelta('2 days')).map(target_map)\n",
    "    df['btc_lag3'] = (df.index - pd.Timedelta('3 days')).map(target_map)\n",
    "    return df"
   ]
  },
  {
   "cell_type": "code",
   "execution_count": 25,
   "id": "d8986d96-347a-4ac4-a763-1d1fc75bab02",
   "metadata": {},
   "outputs": [],
   "source": [
    "df_train = df_train.drop(['NYSE', 'NASDAQ', 'LSE', 'BTC_Volume', 'NYSE_Volume', 'NASDAQ_Volume', 'LSE_Volume'], axis = 1)\n",
    "df_test = df_test.drop(['NYSE', 'NASDAQ', 'LSE', 'BTC_Volume', 'NYSE_Volume', 'NASDAQ_Volume', 'LSE_Volume'], axis = 1)"
   ]
  },
  {
   "cell_type": "code",
   "execution_count": 40,
   "id": "84e766c4-11fe-4d32-a1b9-9980cea184da",
   "metadata": {},
   "outputs": [],
   "source": [
    "x_train = create_features(df_train)\n",
    "x_train = add_lags(x_train)\n",
    "x_test = create_features(df_test)\n",
    "x_test = add_lags(x_test)"
   ]
  },
  {
   "cell_type": "code",
   "execution_count": 41,
   "id": "b157b20c-7569-40ab-b52f-d8130a80ddf9",
   "metadata": {},
   "outputs": [],
   "source": [
    "y_train = x_train['BTC+1']\n",
    "y_test = x_test['BTC+1']\n",
    "x_train = x_train.drop(['BTC', 'BTC+1'], axis =1)\n",
    "x_test = x_test.drop(['BTC','BTC+1'], axis = 1)"
   ]
  },
  {
   "cell_type": "code",
   "execution_count": 45,
   "id": "005586b9-b376-49ac-9784-e59a2a6d8934",
   "metadata": {},
   "outputs": [
    {
     "name": "stderr",
     "output_type": "stream",
     "text": [
      "/opt/intel/inteloneapi/intelpython/latest/lib/python3.9/site-packages/xgboost/data.py:267: FutureWarning: pandas.Int64Index is deprecated and will be removed from pandas in a future version. Use pandas.Index with the appropriate dtype instead.\n",
      "  elif isinstance(data.columns, (pd.Int64Index, pd.RangeIndex)):\n"
     ]
    },
    {
     "name": "stdout",
     "output_type": "stream",
     "text": [
      "[21:22:07] WARNING: /home/sat_bot/base/conda-bld/xgboost_1667827974456/work/src/objective/regression_obj.cu:198: reg:linear is now deprecated in favor of reg:squarederror.\n",
      "[0]\tvalidation_0-rmse:8.88229\tvalidation_1-rmse:9.58714\n",
      "[100]\tvalidation_0-rmse:3.27015\tvalidation_1-rmse:3.18231\n",
      "[200]\tvalidation_0-rmse:1.21249\tvalidation_1-rmse:0.91301\n",
      "[300]\tvalidation_0-rmse:0.46054\tvalidation_1-rmse:0.37979\n",
      "[355]\tvalidation_0-rmse:0.28159\tvalidation_1-rmse:0.41908\n"
     ]
    },
    {
     "data": {
      "text/html": [
       "<style>#sk-container-id-1 {color: black;background-color: white;}#sk-container-id-1 pre{padding: 0;}#sk-container-id-1 div.sk-toggleable {background-color: white;}#sk-container-id-1 label.sk-toggleable__label {cursor: pointer;display: block;width: 100%;margin-bottom: 0;padding: 0.3em;box-sizing: border-box;text-align: center;}#sk-container-id-1 label.sk-toggleable__label-arrow:before {content: \"▸\";float: left;margin-right: 0.25em;color: #696969;}#sk-container-id-1 label.sk-toggleable__label-arrow:hover:before {color: black;}#sk-container-id-1 div.sk-estimator:hover label.sk-toggleable__label-arrow:before {color: black;}#sk-container-id-1 div.sk-toggleable__content {max-height: 0;max-width: 0;overflow: hidden;text-align: left;background-color: #f0f8ff;}#sk-container-id-1 div.sk-toggleable__content pre {margin: 0.2em;color: black;border-radius: 0.25em;background-color: #f0f8ff;}#sk-container-id-1 input.sk-toggleable__control:checked~div.sk-toggleable__content {max-height: 200px;max-width: 100%;overflow: auto;}#sk-container-id-1 input.sk-toggleable__control:checked~label.sk-toggleable__label-arrow:before {content: \"▾\";}#sk-container-id-1 div.sk-estimator input.sk-toggleable__control:checked~label.sk-toggleable__label {background-color: #d4ebff;}#sk-container-id-1 div.sk-label input.sk-toggleable__control:checked~label.sk-toggleable__label {background-color: #d4ebff;}#sk-container-id-1 input.sk-hidden--visually {border: 0;clip: rect(1px 1px 1px 1px);clip: rect(1px, 1px, 1px, 1px);height: 1px;margin: -1px;overflow: hidden;padding: 0;position: absolute;width: 1px;}#sk-container-id-1 div.sk-estimator {font-family: monospace;background-color: #f0f8ff;border: 1px dotted black;border-radius: 0.25em;box-sizing: border-box;margin-bottom: 0.5em;}#sk-container-id-1 div.sk-estimator:hover {background-color: #d4ebff;}#sk-container-id-1 div.sk-parallel-item::after {content: \"\";width: 100%;border-bottom: 1px solid gray;flex-grow: 1;}#sk-container-id-1 div.sk-label:hover label.sk-toggleable__label {background-color: #d4ebff;}#sk-container-id-1 div.sk-serial::before {content: \"\";position: absolute;border-left: 1px solid gray;box-sizing: border-box;top: 0;bottom: 0;left: 50%;z-index: 0;}#sk-container-id-1 div.sk-serial {display: flex;flex-direction: column;align-items: center;background-color: white;padding-right: 0.2em;padding-left: 0.2em;position: relative;}#sk-container-id-1 div.sk-item {position: relative;z-index: 1;}#sk-container-id-1 div.sk-parallel {display: flex;align-items: stretch;justify-content: center;background-color: white;position: relative;}#sk-container-id-1 div.sk-item::before, #sk-container-id-1 div.sk-parallel-item::before {content: \"\";position: absolute;border-left: 1px solid gray;box-sizing: border-box;top: 0;bottom: 0;left: 50%;z-index: -1;}#sk-container-id-1 div.sk-parallel-item {display: flex;flex-direction: column;z-index: 1;position: relative;background-color: white;}#sk-container-id-1 div.sk-parallel-item:first-child::after {align-self: flex-end;width: 50%;}#sk-container-id-1 div.sk-parallel-item:last-child::after {align-self: flex-start;width: 50%;}#sk-container-id-1 div.sk-parallel-item:only-child::after {width: 0;}#sk-container-id-1 div.sk-dashed-wrapped {border: 1px dashed gray;margin: 0 0.4em 0.5em 0.4em;box-sizing: border-box;padding-bottom: 0.4em;background-color: white;}#sk-container-id-1 div.sk-label label {font-family: monospace;font-weight: bold;display: inline-block;line-height: 1.2em;}#sk-container-id-1 div.sk-label-container {text-align: center;}#sk-container-id-1 div.sk-container {/* jupyter's `normalize.less` sets `[hidden] { display: none; }` but bootstrap.min.css set `[hidden] { display: none !important; }` so we also need the `!important` here to be able to override the default hidden behavior on the sphinx rendered scikit-learn.org. See: https://github.com/scikit-learn/scikit-learn/issues/21755 */display: inline-block !important;position: relative;}#sk-container-id-1 div.sk-text-repr-fallback {display: none;}</style><div id=\"sk-container-id-1\" class=\"sk-top-container\"><div class=\"sk-text-repr-fallback\"><pre>XGBRegressor(base_score=0.5, booster=&#x27;gbtree&#x27;, callbacks=None,\n",
       "             colsample_bylevel=1, colsample_bynode=1, colsample_bytree=1,\n",
       "             early_stopping_rounds=50, enable_categorical=False,\n",
       "             eval_metric=None, gamma=0, gpu_id=-1, importance_type=None,\n",
       "             interaction_constraints=&#x27;&#x27;, learning_rate=0.01,\n",
       "             max_cat_to_onehot=4, max_delta_step=0, max_depth=3,\n",
       "             min_child_weight=1, missing=nan, monotone_constraints=&#x27;()&#x27;,\n",
       "             n_estimators=1000, n_jobs=12, num_parallel_tree=1,\n",
       "             objective=&#x27;reg:linear&#x27;, predictor=&#x27;auto&#x27;, random_state=0,\n",
       "             reg_alpha=0, reg_lambda=1, scale_pos_weight=1, subsample=1, ...)</pre><b>In a Jupyter environment, please rerun this cell to show the HTML representation or trust the notebook. <br />On GitHub, the HTML representation is unable to render, please try loading this page with nbviewer.org.</b></div><div class=\"sk-container\" hidden><div class=\"sk-item\"><div class=\"sk-estimator sk-toggleable\"><input class=\"sk-toggleable__control sk-hidden--visually\" id=\"sk-estimator-id-1\" type=\"checkbox\" checked><label for=\"sk-estimator-id-1\" class=\"sk-toggleable__label sk-toggleable__label-arrow\">XGBRegressor</label><div class=\"sk-toggleable__content\"><pre>XGBRegressor(base_score=0.5, booster=&#x27;gbtree&#x27;, callbacks=None,\n",
       "             colsample_bylevel=1, colsample_bynode=1, colsample_bytree=1,\n",
       "             early_stopping_rounds=50, enable_categorical=False,\n",
       "             eval_metric=None, gamma=0, gpu_id=-1, importance_type=None,\n",
       "             interaction_constraints=&#x27;&#x27;, learning_rate=0.01,\n",
       "             max_cat_to_onehot=4, max_delta_step=0, max_depth=3,\n",
       "             min_child_weight=1, missing=nan, monotone_constraints=&#x27;()&#x27;,\n",
       "             n_estimators=1000, n_jobs=12, num_parallel_tree=1,\n",
       "             objective=&#x27;reg:linear&#x27;, predictor=&#x27;auto&#x27;, random_state=0,\n",
       "             reg_alpha=0, reg_lambda=1, scale_pos_weight=1, subsample=1, ...)</pre></div></div></div></div></div>"
      ],
      "text/plain": [
       "XGBRegressor(base_score=0.5, booster='gbtree', callbacks=None,\n",
       "             colsample_bylevel=1, colsample_bynode=1, colsample_bytree=1,\n",
       "             early_stopping_rounds=50, enable_categorical=False,\n",
       "             eval_metric=None, gamma=0, gpu_id=-1, importance_type=None,\n",
       "             interaction_constraints='', learning_rate=0.01,\n",
       "             max_cat_to_onehot=4, max_delta_step=0, max_depth=3,\n",
       "             min_child_weight=1, missing=nan, monotone_constraints='()',\n",
       "             n_estimators=1000, n_jobs=12, num_parallel_tree=1,\n",
       "             objective='reg:linear', predictor='auto', random_state=0,\n",
       "             reg_alpha=0, reg_lambda=1, scale_pos_weight=1, subsample=1, ...)"
      ]
     },
     "execution_count": 45,
     "metadata": {},
     "output_type": "execute_result"
    }
   ],
   "source": [
    "reg = xgb.XGBRegressor(base_score=0.5, booster='gbtree',    \n",
    "                           n_estimators=1000,\n",
    "                           early_stopping_rounds=50,\n",
    "                           objective='reg:linear',\n",
    "                           max_depth=3,learning_rate=0.01)\n",
    "reg.fit(x_train, y_train,\n",
    "        eval_set=[(x_train, y_train), (x_test, y_test)],\n",
    "        verbose=100)"
   ]
  },
  {
   "cell_type": "code",
   "execution_count": 46,
   "id": "00a8da83-0c08-44af-98ec-2510ba0136d4",
   "metadata": {},
   "outputs": [
    {
     "data": {
      "text/plain": [
       "10820.804988420196"
      ]
     },
     "execution_count": 46,
     "metadata": {},
     "output_type": "execute_result"
    }
   ],
   "source": [
    "y_pred = reg.predict(x_test)\n",
    "y_pred = np.expm1(y_pred)\n",
    "y_test = np.expm1(y_test)\n",
    "score = np.sqrt(mean_squared_error(y_test, y_pred))\n",
    "score"
   ]
  },
  {
   "cell_type": "code",
   "execution_count": 47,
   "id": "ce63c752-4f07-43d8-88ef-0632eaf9a32d",
   "metadata": {},
   "outputs": [
    {
     "data": {
      "text/html": [
       "<div>\n",
       "<style scoped>\n",
       "    .dataframe tbody tr th:only-of-type {\n",
       "        vertical-align: middle;\n",
       "    }\n",
       "\n",
       "    .dataframe tbody tr th {\n",
       "        vertical-align: top;\n",
       "    }\n",
       "\n",
       "    .dataframe thead th {\n",
       "        text-align: right;\n",
       "    }\n",
       "</style>\n",
       "<table border=\"1\" class=\"dataframe\">\n",
       "  <thead>\n",
       "    <tr style=\"text-align: right;\">\n",
       "      <th></th>\n",
       "      <th>0</th>\n",
       "      <th>1</th>\n",
       "    </tr>\n",
       "  </thead>\n",
       "  <tbody>\n",
       "    <tr>\n",
       "      <th>0</th>\n",
       "      <td>25910.253906</td>\n",
       "      <td>46306.44531</td>\n",
       "    </tr>\n",
       "    <tr>\n",
       "      <th>1</th>\n",
       "      <td>26929.544922</td>\n",
       "      <td>45897.57422</td>\n",
       "    </tr>\n",
       "    <tr>\n",
       "      <th>2</th>\n",
       "      <td>28545.068359</td>\n",
       "      <td>43569.00391</td>\n",
       "    </tr>\n",
       "    <tr>\n",
       "      <th>3</th>\n",
       "      <td>28545.068359</td>\n",
       "      <td>43160.92969</td>\n",
       "    </tr>\n",
       "    <tr>\n",
       "      <th>4</th>\n",
       "      <td>27257.988281</td>\n",
       "      <td>41557.90234</td>\n",
       "    </tr>\n",
       "    <tr>\n",
       "      <th>...</th>\n",
       "      <td>...</td>\n",
       "      <td>...</td>\n",
       "    </tr>\n",
       "    <tr>\n",
       "      <th>247</th>\n",
       "      <td>30663.943359</td>\n",
       "      <td>16796.95313</td>\n",
       "    </tr>\n",
       "    <tr>\n",
       "      <th>248</th>\n",
       "      <td>25910.253906</td>\n",
       "      <td>16552.57227</td>\n",
       "    </tr>\n",
       "    <tr>\n",
       "      <th>249</th>\n",
       "      <td>30663.943359</td>\n",
       "      <td>16642.34180</td>\n",
       "    </tr>\n",
       "    <tr>\n",
       "      <th>250</th>\n",
       "      <td>30663.943359</td>\n",
       "      <td>16602.58594</td>\n",
       "    </tr>\n",
       "    <tr>\n",
       "      <th>251</th>\n",
       "      <td>30663.943359</td>\n",
       "      <td>16602.58594</td>\n",
       "    </tr>\n",
       "  </tbody>\n",
       "</table>\n",
       "<p>252 rows × 2 columns</p>\n",
       "</div>"
      ],
      "text/plain": [
       "                0            1\n",
       "0    25910.253906  46306.44531\n",
       "1    26929.544922  45897.57422\n",
       "2    28545.068359  43569.00391\n",
       "3    28545.068359  43160.92969\n",
       "4    27257.988281  41557.90234\n",
       "..            ...          ...\n",
       "247  30663.943359  16796.95313\n",
       "248  25910.253906  16552.57227\n",
       "249  30663.943359  16642.34180\n",
       "250  30663.943359  16602.58594\n",
       "251  30663.943359  16602.58594\n",
       "\n",
       "[252 rows x 2 columns]"
      ]
     },
     "execution_count": 47,
     "metadata": {},
     "output_type": "execute_result"
    }
   ],
   "source": [
    "pred_vs_actual = pd.DataFrame(data = [y_pred, y_test]).T\n",
    "pred_vs_actual"
   ]
  },
  {
   "cell_type": "code",
   "execution_count": 48,
   "id": "7896a2ff-116a-4d25-96ab-80480f51648d",
   "metadata": {},
   "outputs": [
    {
     "data": {
      "text/html": [
       "<div>\n",
       "<style scoped>\n",
       "    .dataframe tbody tr th:only-of-type {\n",
       "        vertical-align: middle;\n",
       "    }\n",
       "\n",
       "    .dataframe tbody tr th {\n",
       "        vertical-align: top;\n",
       "    }\n",
       "\n",
       "    .dataframe thead th {\n",
       "        text-align: right;\n",
       "    }\n",
       "</style>\n",
       "<table border=\"1\" class=\"dataframe\">\n",
       "  <thead>\n",
       "    <tr style=\"text-align: right;\">\n",
       "      <th></th>\n",
       "      <th>BTC</th>\n",
       "      <th>NYSE</th>\n",
       "      <th>NASDAQ</th>\n",
       "      <th>LSE</th>\n",
       "      <th>BTC_Volume</th>\n",
       "      <th>NYSE_Volume</th>\n",
       "      <th>NASDAQ_Volume</th>\n",
       "      <th>LSE_Volume</th>\n",
       "      <th>BTC+1</th>\n",
       "      <th>hour</th>\n",
       "      <th>...</th>\n",
       "      <th>quarter</th>\n",
       "      <th>month</th>\n",
       "      <th>year</th>\n",
       "      <th>dayofyear</th>\n",
       "      <th>dayofmonth</th>\n",
       "      <th>moving_avg</th>\n",
       "      <th>ema_12</th>\n",
       "      <th>ema_26</th>\n",
       "      <th>macd</th>\n",
       "      <th>macd_signal</th>\n",
       "    </tr>\n",
       "    <tr>\n",
       "      <th>Date</th>\n",
       "      <th></th>\n",
       "      <th></th>\n",
       "      <th></th>\n",
       "      <th></th>\n",
       "      <th></th>\n",
       "      <th></th>\n",
       "      <th></th>\n",
       "      <th></th>\n",
       "      <th></th>\n",
       "      <th></th>\n",
       "      <th></th>\n",
       "      <th></th>\n",
       "      <th></th>\n",
       "      <th></th>\n",
       "      <th></th>\n",
       "      <th></th>\n",
       "      <th></th>\n",
       "      <th></th>\n",
       "      <th></th>\n",
       "      <th></th>\n",
       "      <th></th>\n",
       "    </tr>\n",
       "  </thead>\n",
       "  <tbody>\n",
       "    <tr>\n",
       "      <th>2022-12-23</th>\n",
       "      <td>9.729012</td>\n",
       "      <td>15188.45020</td>\n",
       "      <td>10497.86035</td>\n",
       "      <td>7130.0</td>\n",
       "      <td>1.532927e+10</td>\n",
       "      <td>2819280000</td>\n",
       "      <td>3544680000</td>\n",
       "      <td>141614</td>\n",
       "      <td>9.729012</td>\n",
       "      <td>0</td>\n",
       "      <td>...</td>\n",
       "      <td>4</td>\n",
       "      <td>12</td>\n",
       "      <td>2022</td>\n",
       "      <td>357</td>\n",
       "      <td>23</td>\n",
       "      <td>9.740093</td>\n",
       "      <td>9.737700</td>\n",
       "      <td>9.750343</td>\n",
       "      <td>-0.012642</td>\n",
       "      <td>-0.014429</td>\n",
       "    </tr>\n",
       "    <tr>\n",
       "      <th>2022-12-27</th>\n",
       "      <td>9.724252</td>\n",
       "      <td>15218.25977</td>\n",
       "      <td>10353.23047</td>\n",
       "      <td>7130.0</td>\n",
       "      <td>1.574858e+10</td>\n",
       "      <td>3030300000</td>\n",
       "      <td>3827290000</td>\n",
       "      <td>141614</td>\n",
       "      <td>9.714357</td>\n",
       "      <td>0</td>\n",
       "      <td>...</td>\n",
       "      <td>4</td>\n",
       "      <td>12</td>\n",
       "      <td>2022</td>\n",
       "      <td>361</td>\n",
       "      <td>27</td>\n",
       "      <td>9.741611</td>\n",
       "      <td>9.735631</td>\n",
       "      <td>9.748410</td>\n",
       "      <td>-0.012779</td>\n",
       "      <td>-0.014099</td>\n",
       "    </tr>\n",
       "    <tr>\n",
       "      <th>2022-12-28</th>\n",
       "      <td>9.714357</td>\n",
       "      <td>15037.32031</td>\n",
       "      <td>10213.29004</td>\n",
       "      <td>7128.0</td>\n",
       "      <td>1.700571e+10</td>\n",
       "      <td>3083520000</td>\n",
       "      <td>3842970000</td>\n",
       "      <td>490323</td>\n",
       "      <td>9.719766</td>\n",
       "      <td>0</td>\n",
       "      <td>...</td>\n",
       "      <td>4</td>\n",
       "      <td>12</td>\n",
       "      <td>2022</td>\n",
       "      <td>362</td>\n",
       "      <td>28</td>\n",
       "      <td>9.741937</td>\n",
       "      <td>9.732358</td>\n",
       "      <td>9.745888</td>\n",
       "      <td>-0.013529</td>\n",
       "      <td>-0.013985</td>\n",
       "    </tr>\n",
       "    <tr>\n",
       "      <th>2022-12-29</th>\n",
       "      <td>9.719766</td>\n",
       "      <td>15241.20996</td>\n",
       "      <td>10478.08984</td>\n",
       "      <td>7212.0</td>\n",
       "      <td>1.447224e+10</td>\n",
       "      <td>3003680000</td>\n",
       "      <td>4154100000</td>\n",
       "      <td>457006</td>\n",
       "      <td>9.717374</td>\n",
       "      <td>0</td>\n",
       "      <td>...</td>\n",
       "      <td>4</td>\n",
       "      <td>12</td>\n",
       "      <td>2022</td>\n",
       "      <td>363</td>\n",
       "      <td>29</td>\n",
       "      <td>9.740381</td>\n",
       "      <td>9.730421</td>\n",
       "      <td>9.743953</td>\n",
       "      <td>-0.013532</td>\n",
       "      <td>-0.013894</td>\n",
       "    </tr>\n",
       "    <tr>\n",
       "      <th>2022-12-30</th>\n",
       "      <td>9.717374</td>\n",
       "      <td>15184.30957</td>\n",
       "      <td>10466.48047</td>\n",
       "      <td>7136.0</td>\n",
       "      <td>1.592916e+10</td>\n",
       "      <td>2979870000</td>\n",
       "      <td>3959030000</td>\n",
       "      <td>226505</td>\n",
       "      <td>9.717374</td>\n",
       "      <td>0</td>\n",
       "      <td>...</td>\n",
       "      <td>4</td>\n",
       "      <td>12</td>\n",
       "      <td>2022</td>\n",
       "      <td>364</td>\n",
       "      <td>30</td>\n",
       "      <td>9.739295</td>\n",
       "      <td>9.728414</td>\n",
       "      <td>9.741984</td>\n",
       "      <td>-0.013570</td>\n",
       "      <td>-0.013829</td>\n",
       "    </tr>\n",
       "  </tbody>\n",
       "</table>\n",
       "<p>5 rows × 21 columns</p>\n",
       "</div>"
      ],
      "text/plain": [
       "                 BTC         NYSE       NASDAQ     LSE    BTC_Volume  \\\n",
       "Date                                                                   \n",
       "2022-12-23  9.729012  15188.45020  10497.86035  7130.0  1.532927e+10   \n",
       "2022-12-27  9.724252  15218.25977  10353.23047  7130.0  1.574858e+10   \n",
       "2022-12-28  9.714357  15037.32031  10213.29004  7128.0  1.700571e+10   \n",
       "2022-12-29  9.719766  15241.20996  10478.08984  7212.0  1.447224e+10   \n",
       "2022-12-30  9.717374  15184.30957  10466.48047  7136.0  1.592916e+10   \n",
       "\n",
       "            NYSE_Volume  NASDAQ_Volume  LSE_Volume     BTC+1  hour  ...  \\\n",
       "Date                                                                ...   \n",
       "2022-12-23   2819280000     3544680000      141614  9.729012     0  ...   \n",
       "2022-12-27   3030300000     3827290000      141614  9.714357     0  ...   \n",
       "2022-12-28   3083520000     3842970000      490323  9.719766     0  ...   \n",
       "2022-12-29   3003680000     4154100000      457006  9.717374     0  ...   \n",
       "2022-12-30   2979870000     3959030000      226505  9.717374     0  ...   \n",
       "\n",
       "            quarter  month  year  dayofyear  dayofmonth  moving_avg    ema_12  \\\n",
       "Date                                                                            \n",
       "2022-12-23        4     12  2022        357          23    9.740093  9.737700   \n",
       "2022-12-27        4     12  2022        361          27    9.741611  9.735631   \n",
       "2022-12-28        4     12  2022        362          28    9.741937  9.732358   \n",
       "2022-12-29        4     12  2022        363          29    9.740381  9.730421   \n",
       "2022-12-30        4     12  2022        364          30    9.739295  9.728414   \n",
       "\n",
       "              ema_26      macd  macd_signal  \n",
       "Date                                         \n",
       "2022-12-23  9.750343 -0.012642    -0.014429  \n",
       "2022-12-27  9.748410 -0.012779    -0.014099  \n",
       "2022-12-28  9.745888 -0.013529    -0.013985  \n",
       "2022-12-29  9.743953 -0.013532    -0.013894  \n",
       "2022-12-30  9.741984 -0.013570    -0.013829  \n",
       "\n",
       "[5 rows x 21 columns]"
      ]
     },
     "execution_count": 48,
     "metadata": {},
     "output_type": "execute_result"
    }
   ],
   "source": [
    "df['moving_avg'] = df['BTC'].rolling(window = 20).mean()\n",
    "df['ema_12'] = df['BTC'].ewm(span = 12, adjust = False).mean()\n",
    "df['ema_26'] = df['BTC'].ewm(span = 26, adjust = False).mean()\n",
    "df['macd'] = df['ema_12'] - df['ema_26']\n",
    "df['macd_signal'] = df['macd'].ewm(span=9, adjust = False).mean()\n",
    "df.tail()"
   ]
  },
  {
   "cell_type": "code",
   "execution_count": 49,
   "id": "ab3f67fe-f387-42c6-a0d7-42c13974cb27",
   "metadata": {},
   "outputs": [],
   "source": [
    "size = int(len(df) * 0.8)\n",
    "df_train = df.iloc[:size]\n",
    "df_test = df.iloc[size:]"
   ]
  },
  {
   "cell_type": "code",
   "execution_count": 50,
   "id": "4d85af72-5ebf-4065-bcb8-f5e0e271bb57",
   "metadata": {},
   "outputs": [],
   "source": [
    "df_train = df_train.drop(['NYSE', 'NASDAQ', 'LSE', 'BTC_Volume', 'NYSE_Volume', 'NASDAQ_Volume', 'LSE_Volume'], axis = 1)\n",
    "df_test = df_test.drop(['NYSE', 'NASDAQ', 'LSE', 'BTC_Volume', 'NYSE_Volume', 'NASDAQ_Volume', 'LSE_Volume'], axis = 1)"
   ]
  },
  {
   "cell_type": "code",
   "execution_count": 51,
   "id": "4cb1884b-3d08-4174-8030-1a2567e68fd6",
   "metadata": {},
   "outputs": [],
   "source": [
    "x_train = create_features(df_train)\n",
    "x_train = add_lags(x_train)\n",
    "x_test = create_features(df_test)\n",
    "x_test = add_lags(x_test)\n",
    "y_train = x_train['BTC+1']\n",
    "y_test = x_test['BTC+1']\n",
    "x_train = x_train.drop(['BTC', 'BTC+1'], axis =1)\n",
    "x_test = x_test.drop(['BTC','BTC+1'], axis = 1)"
   ]
  },
  {
   "cell_type": "code",
   "execution_count": 52,
   "id": "ab6d7325-58eb-4587-a733-9ee5ede9a8d0",
   "metadata": {},
   "outputs": [],
   "source": [
    "x_train.fillna(method = 'ffill', inplace = True)\n",
    "x_test.fillna(method = 'ffill', inplace = True)"
   ]
  },
  {
   "cell_type": "code",
   "execution_count": 53,
   "id": "49dc31a9-04cc-4fae-8536-48c3cf57871b",
   "metadata": {},
   "outputs": [],
   "source": [
    "x_train.drop(['hour', 'dayofweek', 'quarter', 'month', 'year'], axis = 1, inplace = True)\n",
    "x_test.drop(['hour', 'dayofweek', 'quarter', 'month', 'year'], axis = 1, inplace = True)\n"
   ]
  },
  {
   "cell_type": "code",
   "execution_count": 54,
   "id": "ce945990-203a-4346-b1b5-6a6b40e3b5bb",
   "metadata": {},
   "outputs": [
    {
     "name": "stdout",
     "output_type": "stream",
     "text": [
      "[21:24:40] WARNING: /home/sat_bot/base/conda-bld/xgboost_1667827974456/work/src/objective/regression_obj.cu:198: reg:linear is now deprecated in favor of reg:squarederror.\n",
      "[0]\tvalidation_0-rmse:8.88227\tvalidation_1-rmse:9.58797\n",
      "[100]\tvalidation_0-rmse:3.26568\tvalidation_1-rmse:3.34618\n",
      "[200]\tvalidation_0-rmse:1.20289\tvalidation_1-rmse:1.14733\n"
     ]
    },
    {
     "name": "stderr",
     "output_type": "stream",
     "text": [
      "/opt/intel/inteloneapi/intelpython/latest/lib/python3.9/site-packages/xgboost/data.py:267: FutureWarning: pandas.Int64Index is deprecated and will be removed from pandas in a future version. Use pandas.Index with the appropriate dtype instead.\n",
      "  elif isinstance(data.columns, (pd.Int64Index, pd.RangeIndex)):\n"
     ]
    },
    {
     "name": "stdout",
     "output_type": "stream",
     "text": [
      "[300]\tvalidation_0-rmse:0.44588\tvalidation_1-rmse:0.36062\n",
      "[400]\tvalidation_0-rmse:0.17131\tvalidation_1-rmse:0.15719\n",
      "[470]\tvalidation_0-rmse:0.09536\tvalidation_1-rmse:0.16168\n"
     ]
    },
    {
     "data": {
      "text/html": [
       "<style>#sk-container-id-2 {color: black;background-color: white;}#sk-container-id-2 pre{padding: 0;}#sk-container-id-2 div.sk-toggleable {background-color: white;}#sk-container-id-2 label.sk-toggleable__label {cursor: pointer;display: block;width: 100%;margin-bottom: 0;padding: 0.3em;box-sizing: border-box;text-align: center;}#sk-container-id-2 label.sk-toggleable__label-arrow:before {content: \"▸\";float: left;margin-right: 0.25em;color: #696969;}#sk-container-id-2 label.sk-toggleable__label-arrow:hover:before {color: black;}#sk-container-id-2 div.sk-estimator:hover label.sk-toggleable__label-arrow:before {color: black;}#sk-container-id-2 div.sk-toggleable__content {max-height: 0;max-width: 0;overflow: hidden;text-align: left;background-color: #f0f8ff;}#sk-container-id-2 div.sk-toggleable__content pre {margin: 0.2em;color: black;border-radius: 0.25em;background-color: #f0f8ff;}#sk-container-id-2 input.sk-toggleable__control:checked~div.sk-toggleable__content {max-height: 200px;max-width: 100%;overflow: auto;}#sk-container-id-2 input.sk-toggleable__control:checked~label.sk-toggleable__label-arrow:before {content: \"▾\";}#sk-container-id-2 div.sk-estimator input.sk-toggleable__control:checked~label.sk-toggleable__label {background-color: #d4ebff;}#sk-container-id-2 div.sk-label input.sk-toggleable__control:checked~label.sk-toggleable__label {background-color: #d4ebff;}#sk-container-id-2 input.sk-hidden--visually {border: 0;clip: rect(1px 1px 1px 1px);clip: rect(1px, 1px, 1px, 1px);height: 1px;margin: -1px;overflow: hidden;padding: 0;position: absolute;width: 1px;}#sk-container-id-2 div.sk-estimator {font-family: monospace;background-color: #f0f8ff;border: 1px dotted black;border-radius: 0.25em;box-sizing: border-box;margin-bottom: 0.5em;}#sk-container-id-2 div.sk-estimator:hover {background-color: #d4ebff;}#sk-container-id-2 div.sk-parallel-item::after {content: \"\";width: 100%;border-bottom: 1px solid gray;flex-grow: 1;}#sk-container-id-2 div.sk-label:hover label.sk-toggleable__label {background-color: #d4ebff;}#sk-container-id-2 div.sk-serial::before {content: \"\";position: absolute;border-left: 1px solid gray;box-sizing: border-box;top: 0;bottom: 0;left: 50%;z-index: 0;}#sk-container-id-2 div.sk-serial {display: flex;flex-direction: column;align-items: center;background-color: white;padding-right: 0.2em;padding-left: 0.2em;position: relative;}#sk-container-id-2 div.sk-item {position: relative;z-index: 1;}#sk-container-id-2 div.sk-parallel {display: flex;align-items: stretch;justify-content: center;background-color: white;position: relative;}#sk-container-id-2 div.sk-item::before, #sk-container-id-2 div.sk-parallel-item::before {content: \"\";position: absolute;border-left: 1px solid gray;box-sizing: border-box;top: 0;bottom: 0;left: 50%;z-index: -1;}#sk-container-id-2 div.sk-parallel-item {display: flex;flex-direction: column;z-index: 1;position: relative;background-color: white;}#sk-container-id-2 div.sk-parallel-item:first-child::after {align-self: flex-end;width: 50%;}#sk-container-id-2 div.sk-parallel-item:last-child::after {align-self: flex-start;width: 50%;}#sk-container-id-2 div.sk-parallel-item:only-child::after {width: 0;}#sk-container-id-2 div.sk-dashed-wrapped {border: 1px dashed gray;margin: 0 0.4em 0.5em 0.4em;box-sizing: border-box;padding-bottom: 0.4em;background-color: white;}#sk-container-id-2 div.sk-label label {font-family: monospace;font-weight: bold;display: inline-block;line-height: 1.2em;}#sk-container-id-2 div.sk-label-container {text-align: center;}#sk-container-id-2 div.sk-container {/* jupyter's `normalize.less` sets `[hidden] { display: none; }` but bootstrap.min.css set `[hidden] { display: none !important; }` so we also need the `!important` here to be able to override the default hidden behavior on the sphinx rendered scikit-learn.org. See: https://github.com/scikit-learn/scikit-learn/issues/21755 */display: inline-block !important;position: relative;}#sk-container-id-2 div.sk-text-repr-fallback {display: none;}</style><div id=\"sk-container-id-2\" class=\"sk-top-container\"><div class=\"sk-text-repr-fallback\"><pre>XGBRegressor(base_score=0.5, booster=&#x27;gbtree&#x27;, callbacks=None,\n",
       "             colsample_bylevel=1, colsample_bynode=1, colsample_bytree=1,\n",
       "             early_stopping_rounds=50, enable_categorical=False,\n",
       "             eval_metric=None, gamma=0, gpu_id=-1, importance_type=None,\n",
       "             interaction_constraints=&#x27;&#x27;, learning_rate=0.01,\n",
       "             max_cat_to_onehot=4, max_delta_step=0, max_depth=3,\n",
       "             min_child_weight=1, missing=nan, monotone_constraints=&#x27;()&#x27;,\n",
       "             n_estimators=1000, n_jobs=12, num_parallel_tree=1,\n",
       "             objective=&#x27;reg:linear&#x27;, predictor=&#x27;auto&#x27;, random_state=0,\n",
       "             reg_alpha=0, reg_lambda=1, scale_pos_weight=1, subsample=1, ...)</pre><b>In a Jupyter environment, please rerun this cell to show the HTML representation or trust the notebook. <br />On GitHub, the HTML representation is unable to render, please try loading this page with nbviewer.org.</b></div><div class=\"sk-container\" hidden><div class=\"sk-item\"><div class=\"sk-estimator sk-toggleable\"><input class=\"sk-toggleable__control sk-hidden--visually\" id=\"sk-estimator-id-2\" type=\"checkbox\" checked><label for=\"sk-estimator-id-2\" class=\"sk-toggleable__label sk-toggleable__label-arrow\">XGBRegressor</label><div class=\"sk-toggleable__content\"><pre>XGBRegressor(base_score=0.5, booster=&#x27;gbtree&#x27;, callbacks=None,\n",
       "             colsample_bylevel=1, colsample_bynode=1, colsample_bytree=1,\n",
       "             early_stopping_rounds=50, enable_categorical=False,\n",
       "             eval_metric=None, gamma=0, gpu_id=-1, importance_type=None,\n",
       "             interaction_constraints=&#x27;&#x27;, learning_rate=0.01,\n",
       "             max_cat_to_onehot=4, max_delta_step=0, max_depth=3,\n",
       "             min_child_weight=1, missing=nan, monotone_constraints=&#x27;()&#x27;,\n",
       "             n_estimators=1000, n_jobs=12, num_parallel_tree=1,\n",
       "             objective=&#x27;reg:linear&#x27;, predictor=&#x27;auto&#x27;, random_state=0,\n",
       "             reg_alpha=0, reg_lambda=1, scale_pos_weight=1, subsample=1, ...)</pre></div></div></div></div></div>"
      ],
      "text/plain": [
       "XGBRegressor(base_score=0.5, booster='gbtree', callbacks=None,\n",
       "             colsample_bylevel=1, colsample_bynode=1, colsample_bytree=1,\n",
       "             early_stopping_rounds=50, enable_categorical=False,\n",
       "             eval_metric=None, gamma=0, gpu_id=-1, importance_type=None,\n",
       "             interaction_constraints='', learning_rate=0.01,\n",
       "             max_cat_to_onehot=4, max_delta_step=0, max_depth=3,\n",
       "             min_child_weight=1, missing=nan, monotone_constraints='()',\n",
       "             n_estimators=1000, n_jobs=12, num_parallel_tree=1,\n",
       "             objective='reg:linear', predictor='auto', random_state=0,\n",
       "             reg_alpha=0, reg_lambda=1, scale_pos_weight=1, subsample=1, ...)"
      ]
     },
     "execution_count": 54,
     "metadata": {},
     "output_type": "execute_result"
    }
   ],
   "source": [
    "reg = xgb.XGBRegressor(base_score=0.5, booster='gbtree',    \n",
    "                           n_estimators=1000,\n",
    "                           early_stopping_rounds=50,\n",
    "                           objective='reg:linear',\n",
    "                           max_depth=3,learning_rate=0.01)\n",
    "reg.fit(x_train, y_train,\n",
    "        eval_set=[(x_train, y_train), (x_test, y_test)],\n",
    "        verbose=100)"
   ]
  },
  {
   "cell_type": "code",
   "execution_count": 55,
   "id": "c2eefdfb-d406-4b26-973a-19d0beaee172",
   "metadata": {},
   "outputs": [
    {
     "data": {
      "text/plain": [
       "4616.937833670281"
      ]
     },
     "execution_count": 55,
     "metadata": {},
     "output_type": "execute_result"
    }
   ],
   "source": [
    "y_pred = reg.predict(x_test)\n",
    "y_test = np.expm1(y_test)\n",
    "y_pred = np.expm1(y_pred)\n",
    "score = np.sqrt(mean_squared_error(y_test, y_pred))\n",
    "score"
   ]
  },
  {
   "cell_type": "code",
   "execution_count": 56,
   "id": "44c197b8-dec8-478e-8230-37aa198c8300",
   "metadata": {},
   "outputs": [
    {
     "data": {
      "text/html": [
       "<div>\n",
       "<style scoped>\n",
       "    .dataframe tbody tr th:only-of-type {\n",
       "        vertical-align: middle;\n",
       "    }\n",
       "\n",
       "    .dataframe tbody tr th {\n",
       "        vertical-align: top;\n",
       "    }\n",
       "\n",
       "    .dataframe thead th {\n",
       "        text-align: right;\n",
       "    }\n",
       "</style>\n",
       "<table border=\"1\" class=\"dataframe\">\n",
       "  <thead>\n",
       "    <tr style=\"text-align: right;\">\n",
       "      <th></th>\n",
       "      <th>0</th>\n",
       "      <th>1</th>\n",
       "    </tr>\n",
       "  </thead>\n",
       "  <tbody>\n",
       "    <tr>\n",
       "      <th>0</th>\n",
       "      <td>25631.761719</td>\n",
       "      <td>46306.44531</td>\n",
       "    </tr>\n",
       "    <tr>\n",
       "      <th>1</th>\n",
       "      <td>26611.328125</td>\n",
       "      <td>45897.57422</td>\n",
       "    </tr>\n",
       "    <tr>\n",
       "      <th>2</th>\n",
       "      <td>36935.074219</td>\n",
       "      <td>43569.00391</td>\n",
       "    </tr>\n",
       "    <tr>\n",
       "      <th>3</th>\n",
       "      <td>38315.562500</td>\n",
       "      <td>43160.92969</td>\n",
       "    </tr>\n",
       "    <tr>\n",
       "      <th>4</th>\n",
       "      <td>35955.722656</td>\n",
       "      <td>41557.90234</td>\n",
       "    </tr>\n",
       "    <tr>\n",
       "      <th>...</th>\n",
       "      <td>...</td>\n",
       "      <td>...</td>\n",
       "    </tr>\n",
       "    <tr>\n",
       "      <th>247</th>\n",
       "      <td>16093.525391</td>\n",
       "      <td>16796.95313</td>\n",
       "    </tr>\n",
       "    <tr>\n",
       "      <th>248</th>\n",
       "      <td>16093.525391</td>\n",
       "      <td>16552.57227</td>\n",
       "    </tr>\n",
       "    <tr>\n",
       "      <th>249</th>\n",
       "      <td>16093.525391</td>\n",
       "      <td>16642.34180</td>\n",
       "    </tr>\n",
       "    <tr>\n",
       "      <th>250</th>\n",
       "      <td>16093.525391</td>\n",
       "      <td>16602.58594</td>\n",
       "    </tr>\n",
       "    <tr>\n",
       "      <th>251</th>\n",
       "      <td>16093.525391</td>\n",
       "      <td>16602.58594</td>\n",
       "    </tr>\n",
       "  </tbody>\n",
       "</table>\n",
       "<p>252 rows × 2 columns</p>\n",
       "</div>"
      ],
      "text/plain": [
       "                0            1\n",
       "0    25631.761719  46306.44531\n",
       "1    26611.328125  45897.57422\n",
       "2    36935.074219  43569.00391\n",
       "3    38315.562500  43160.92969\n",
       "4    35955.722656  41557.90234\n",
       "..            ...          ...\n",
       "247  16093.525391  16796.95313\n",
       "248  16093.525391  16552.57227\n",
       "249  16093.525391  16642.34180\n",
       "250  16093.525391  16602.58594\n",
       "251  16093.525391  16602.58594\n",
       "\n",
       "[252 rows x 2 columns]"
      ]
     },
     "execution_count": 56,
     "metadata": {},
     "output_type": "execute_result"
    }
   ],
   "source": [
    "pred_vs_actual = pd.DataFrame(data = [y_pred, y_test]).T\n",
    "pred_vs_actual"
   ]
  },
  {
   "cell_type": "code",
   "execution_count": 57,
   "id": "85597519-7689-400e-b320-ceb09bcf701c",
   "metadata": {},
   "outputs": [
    {
     "data": {
      "text/html": [
       "<div>\n",
       "<style scoped>\n",
       "    .dataframe tbody tr th:only-of-type {\n",
       "        vertical-align: middle;\n",
       "    }\n",
       "\n",
       "    .dataframe tbody tr th {\n",
       "        vertical-align: top;\n",
       "    }\n",
       "\n",
       "    .dataframe thead th {\n",
       "        text-align: right;\n",
       "    }\n",
       "</style>\n",
       "<table border=\"1\" class=\"dataframe\">\n",
       "  <thead>\n",
       "    <tr style=\"text-align: right;\">\n",
       "      <th></th>\n",
       "      <th>BTC</th>\n",
       "      <th>NYSE</th>\n",
       "      <th>NASDAQ</th>\n",
       "      <th>LSE</th>\n",
       "      <th>BTC_Volume</th>\n",
       "      <th>NYSE_Volume</th>\n",
       "      <th>NASDAQ_Volume</th>\n",
       "      <th>LSE_Volume</th>\n",
       "      <th>BTC+1</th>\n",
       "      <th>hour</th>\n",
       "      <th>...</th>\n",
       "      <th>year</th>\n",
       "      <th>dayofyear</th>\n",
       "      <th>dayofmonth</th>\n",
       "      <th>moving_avg</th>\n",
       "      <th>ema_12</th>\n",
       "      <th>ema_26</th>\n",
       "      <th>macd</th>\n",
       "      <th>macd_signal</th>\n",
       "      <th>rsi</th>\n",
       "      <th>aroon_oscillator</th>\n",
       "    </tr>\n",
       "    <tr>\n",
       "      <th>Date</th>\n",
       "      <th></th>\n",
       "      <th></th>\n",
       "      <th></th>\n",
       "      <th></th>\n",
       "      <th></th>\n",
       "      <th></th>\n",
       "      <th></th>\n",
       "      <th></th>\n",
       "      <th></th>\n",
       "      <th></th>\n",
       "      <th></th>\n",
       "      <th></th>\n",
       "      <th></th>\n",
       "      <th></th>\n",
       "      <th></th>\n",
       "      <th></th>\n",
       "      <th></th>\n",
       "      <th></th>\n",
       "      <th></th>\n",
       "      <th></th>\n",
       "      <th></th>\n",
       "    </tr>\n",
       "  </thead>\n",
       "  <tbody>\n",
       "    <tr>\n",
       "      <th>2022-12-23</th>\n",
       "      <td>9.729012</td>\n",
       "      <td>15188.45020</td>\n",
       "      <td>10497.86035</td>\n",
       "      <td>7130.0</td>\n",
       "      <td>1.532927e+10</td>\n",
       "      <td>2819280000</td>\n",
       "      <td>3544680000</td>\n",
       "      <td>141614</td>\n",
       "      <td>9.729012</td>\n",
       "      <td>0</td>\n",
       "      <td>...</td>\n",
       "      <td>2022</td>\n",
       "      <td>357</td>\n",
       "      <td>23</td>\n",
       "      <td>9.740093</td>\n",
       "      <td>9.737700</td>\n",
       "      <td>9.750343</td>\n",
       "      <td>-0.012642</td>\n",
       "      <td>-0.014429</td>\n",
       "      <td>47.428898</td>\n",
       "      <td>-64.0</td>\n",
       "    </tr>\n",
       "    <tr>\n",
       "      <th>2022-12-27</th>\n",
       "      <td>9.724252</td>\n",
       "      <td>15218.25977</td>\n",
       "      <td>10353.23047</td>\n",
       "      <td>7130.0</td>\n",
       "      <td>1.574858e+10</td>\n",
       "      <td>3030300000</td>\n",
       "      <td>3827290000</td>\n",
       "      <td>141614</td>\n",
       "      <td>9.714357</td>\n",
       "      <td>0</td>\n",
       "      <td>...</td>\n",
       "      <td>2022</td>\n",
       "      <td>361</td>\n",
       "      <td>27</td>\n",
       "      <td>9.741611</td>\n",
       "      <td>9.735631</td>\n",
       "      <td>9.748410</td>\n",
       "      <td>-0.012779</td>\n",
       "      <td>-0.014099</td>\n",
       "      <td>44.571205</td>\n",
       "      <td>-64.0</td>\n",
       "    </tr>\n",
       "    <tr>\n",
       "      <th>2022-12-28</th>\n",
       "      <td>9.714357</td>\n",
       "      <td>15037.32031</td>\n",
       "      <td>10213.29004</td>\n",
       "      <td>7128.0</td>\n",
       "      <td>1.700571e+10</td>\n",
       "      <td>3083520000</td>\n",
       "      <td>3842970000</td>\n",
       "      <td>490323</td>\n",
       "      <td>9.719766</td>\n",
       "      <td>0</td>\n",
       "      <td>...</td>\n",
       "      <td>2022</td>\n",
       "      <td>362</td>\n",
       "      <td>28</td>\n",
       "      <td>9.741937</td>\n",
       "      <td>9.732358</td>\n",
       "      <td>9.745888</td>\n",
       "      <td>-0.013529</td>\n",
       "      <td>-0.013985</td>\n",
       "      <td>45.543204</td>\n",
       "      <td>-60.0</td>\n",
       "    </tr>\n",
       "    <tr>\n",
       "      <th>2022-12-29</th>\n",
       "      <td>9.719766</td>\n",
       "      <td>15241.20996</td>\n",
       "      <td>10478.08984</td>\n",
       "      <td>7212.0</td>\n",
       "      <td>1.447224e+10</td>\n",
       "      <td>3003680000</td>\n",
       "      <td>4154100000</td>\n",
       "      <td>457006</td>\n",
       "      <td>9.717374</td>\n",
       "      <td>0</td>\n",
       "      <td>...</td>\n",
       "      <td>2022</td>\n",
       "      <td>363</td>\n",
       "      <td>29</td>\n",
       "      <td>9.740381</td>\n",
       "      <td>9.730421</td>\n",
       "      <td>9.743953</td>\n",
       "      <td>-0.013532</td>\n",
       "      <td>-0.013894</td>\n",
       "      <td>40.376468</td>\n",
       "      <td>-48.0</td>\n",
       "    </tr>\n",
       "    <tr>\n",
       "      <th>2022-12-30</th>\n",
       "      <td>9.717374</td>\n",
       "      <td>15184.30957</td>\n",
       "      <td>10466.48047</td>\n",
       "      <td>7136.0</td>\n",
       "      <td>1.592916e+10</td>\n",
       "      <td>2979870000</td>\n",
       "      <td>3959030000</td>\n",
       "      <td>226505</td>\n",
       "      <td>9.717374</td>\n",
       "      <td>0</td>\n",
       "      <td>...</td>\n",
       "      <td>2022</td>\n",
       "      <td>364</td>\n",
       "      <td>30</td>\n",
       "      <td>9.739295</td>\n",
       "      <td>9.728414</td>\n",
       "      <td>9.741984</td>\n",
       "      <td>-0.013570</td>\n",
       "      <td>-0.013829</td>\n",
       "      <td>41.158741</td>\n",
       "      <td>-48.0</td>\n",
       "    </tr>\n",
       "  </tbody>\n",
       "</table>\n",
       "<p>5 rows × 23 columns</p>\n",
       "</div>"
      ],
      "text/plain": [
       "                 BTC         NYSE       NASDAQ     LSE    BTC_Volume  \\\n",
       "Date                                                                   \n",
       "2022-12-23  9.729012  15188.45020  10497.86035  7130.0  1.532927e+10   \n",
       "2022-12-27  9.724252  15218.25977  10353.23047  7130.0  1.574858e+10   \n",
       "2022-12-28  9.714357  15037.32031  10213.29004  7128.0  1.700571e+10   \n",
       "2022-12-29  9.719766  15241.20996  10478.08984  7212.0  1.447224e+10   \n",
       "2022-12-30  9.717374  15184.30957  10466.48047  7136.0  1.592916e+10   \n",
       "\n",
       "            NYSE_Volume  NASDAQ_Volume  LSE_Volume     BTC+1  hour  ...  year  \\\n",
       "Date                                                                ...         \n",
       "2022-12-23   2819280000     3544680000      141614  9.729012     0  ...  2022   \n",
       "2022-12-27   3030300000     3827290000      141614  9.714357     0  ...  2022   \n",
       "2022-12-28   3083520000     3842970000      490323  9.719766     0  ...  2022   \n",
       "2022-12-29   3003680000     4154100000      457006  9.717374     0  ...  2022   \n",
       "2022-12-30   2979870000     3959030000      226505  9.717374     0  ...  2022   \n",
       "\n",
       "            dayofyear  dayofmonth  moving_avg    ema_12    ema_26      macd  \\\n",
       "Date                                                                          \n",
       "2022-12-23        357          23    9.740093  9.737700  9.750343 -0.012642   \n",
       "2022-12-27        361          27    9.741611  9.735631  9.748410 -0.012779   \n",
       "2022-12-28        362          28    9.741937  9.732358  9.745888 -0.013529   \n",
       "2022-12-29        363          29    9.740381  9.730421  9.743953 -0.013532   \n",
       "2022-12-30        364          30    9.739295  9.728414  9.741984 -0.013570   \n",
       "\n",
       "            macd_signal        rsi  aroon_oscillator  \n",
       "Date                                                  \n",
       "2022-12-23    -0.014429  47.428898             -64.0  \n",
       "2022-12-27    -0.014099  44.571205             -64.0  \n",
       "2022-12-28    -0.013985  45.543204             -60.0  \n",
       "2022-12-29    -0.013894  40.376468             -48.0  \n",
       "2022-12-30    -0.013829  41.158741             -48.0  \n",
       "\n",
       "[5 rows x 23 columns]"
      ]
     },
     "execution_count": 57,
     "metadata": {},
     "output_type": "execute_result"
    }
   ],
   "source": [
    "df['moving_avg'] = df['BTC'].rolling(window = 20).mean()\n",
    "df['ema_12'] = df['BTC'].ewm(span = 12, adjust = False).mean()\n",
    "df['ema_26'] = df['BTC'].ewm(span = 26, adjust = False).mean()\n",
    "df['macd'] = df['ema_12'] - df['ema_26']\n",
    "df['macd_signal'] = df['macd'].ewm(span=9, adjust = False).mean()\n",
    "delta = df['BTC'].diff()\n",
    "gain = delta.where(delta > 0, 0)\n",
    "loss = -delta.where(delta < 0, 0)\n",
    "avg_gain = gain.rolling(window = 14).mean()\n",
    "avg_loss = loss.rolling(window = 14).mean()\n",
    "rs = avg_gain / avg_loss\n",
    "df['rsi'] = 100 - (100 / (1 + rs))\n",
    "aroon_up = 100 * ((25 - (df['BTC'].rolling(25).apply(lambda x: x.argmax() + 1))) / 25)\n",
    "aroon_down = 100 * ((25 - (df['BTC'].rolling(25).apply(lambda x: x.argmin() + 1))) / 25)\n",
    "df['aroon_oscillator'] = aroon_up - aroon_down\n",
    "df.tail()"
   ]
  },
  {
   "cell_type": "code",
   "execution_count": 58,
   "id": "4ce41681-dfa3-467c-b9ec-8e037c5f8f8f",
   "metadata": {},
   "outputs": [],
   "source": [
    "target_map = df['BTC'].to_dict()\n",
    "df['BTC+1'] = (df.index + pd.Timedelta('1 days')).map(target_map)\n",
    "df['BTC+1'] = df['BTC+1'].fillna(method = 'ffill')"
   ]
  },
  {
   "cell_type": "code",
   "execution_count": 59,
   "id": "05f3474e-38e8-4e63-aee9-7569496e35d7",
   "metadata": {},
   "outputs": [],
   "source": [
    "size = int(len(df) * 0.8)\n",
    "df_train = df.iloc[:size]\n",
    "df_test = df.iloc[size:]"
   ]
  },
  {
   "cell_type": "code",
   "execution_count": 60,
   "id": "ba21e8fa-1a38-444d-8fdc-aad38b93e923",
   "metadata": {},
   "outputs": [],
   "source": [
    "df_train = df_train.drop(['NYSE', 'NASDAQ', 'LSE', 'BTC_Volume', 'NYSE_Volume', 'NASDAQ_Volume', 'LSE_Volume'], axis = 1)\n",
    "df_test = df_test.drop(['NYSE', 'NASDAQ', 'LSE', 'BTC_Volume', 'NYSE_Volume', 'NASDAQ_Volume', 'LSE_Volume'], axis = 1)"
   ]
  },
  {
   "cell_type": "code",
   "execution_count": 61,
   "id": "9e1f62c0-3e55-4656-93e9-1e289adb7359",
   "metadata": {},
   "outputs": [],
   "source": [
    "y_train = df_train['BTC+1']\n",
    "y_test = df_test['BTC+1']\n",
    "x_train = df_train.drop(['BTC', 'BTC+1'], axis =1)\n",
    "x_test = df_test.drop(['BTC','BTC+1'], axis = 1)"
   ]
  },
  {
   "cell_type": "code",
   "execution_count": 62,
   "id": "c94b91b4-ad94-4a0a-bf7c-6d872a80f60c",
   "metadata": {},
   "outputs": [],
   "source": [
    "x_train.drop(['hour', 'dayofweek', 'quarter', 'month', 'year'], axis = 1, inplace = True)\n",
    "x_test.drop(['hour', 'dayofweek', 'quarter', 'month', 'year'], axis = 1, inplace = True)"
   ]
  },
  {
   "cell_type": "code",
   "execution_count": 63,
   "id": "cdfa5110-90a5-49a1-99f9-d6b6349bbe4b",
   "metadata": {
    "collapsed": true,
    "jupyter": {
     "outputs_hidden": true
    },
    "tags": []
   },
   "outputs": [
    {
     "name": "stdout",
     "output_type": "stream",
     "text": [
      "[21:26:42] WARNING: /home/sat_bot/base/conda-bld/xgboost_1667827974456/work/src/objective/regression_obj.cu:198: reg:linear is now deprecated in favor of reg:squarederror.\n",
      "[0]\tvalidation_0-rmse:8.88227\tvalidation_1-rmse:9.58797\n",
      "[100]\tvalidation_0-rmse:3.26596\tvalidation_1-rmse:3.33269\n",
      "[200]\tvalidation_0-rmse:1.20417\tvalidation_1-rmse:1.10963\n"
     ]
    },
    {
     "name": "stderr",
     "output_type": "stream",
     "text": [
      "/opt/intel/inteloneapi/intelpython/latest/lib/python3.9/site-packages/xgboost/data.py:267: FutureWarning: pandas.Int64Index is deprecated and will be removed from pandas in a future version. Use pandas.Index with the appropriate dtype instead.\n",
      "  elif isinstance(data.columns, (pd.Int64Index, pd.RangeIndex)):\n"
     ]
    },
    {
     "name": "stdout",
     "output_type": "stream",
     "text": [
      "[300]\tvalidation_0-rmse:0.44768\tvalidation_1-rmse:0.33794\n",
      "[400]\tvalidation_0-rmse:0.17228\tvalidation_1-rmse:0.14619\n",
      "[468]\tvalidation_0-rmse:0.09671\tvalidation_1-rmse:0.15479\n"
     ]
    },
    {
     "data": {
      "text/html": [
       "<style>#sk-container-id-3 {color: black;background-color: white;}#sk-container-id-3 pre{padding: 0;}#sk-container-id-3 div.sk-toggleable {background-color: white;}#sk-container-id-3 label.sk-toggleable__label {cursor: pointer;display: block;width: 100%;margin-bottom: 0;padding: 0.3em;box-sizing: border-box;text-align: center;}#sk-container-id-3 label.sk-toggleable__label-arrow:before {content: \"▸\";float: left;margin-right: 0.25em;color: #696969;}#sk-container-id-3 label.sk-toggleable__label-arrow:hover:before {color: black;}#sk-container-id-3 div.sk-estimator:hover label.sk-toggleable__label-arrow:before {color: black;}#sk-container-id-3 div.sk-toggleable__content {max-height: 0;max-width: 0;overflow: hidden;text-align: left;background-color: #f0f8ff;}#sk-container-id-3 div.sk-toggleable__content pre {margin: 0.2em;color: black;border-radius: 0.25em;background-color: #f0f8ff;}#sk-container-id-3 input.sk-toggleable__control:checked~div.sk-toggleable__content {max-height: 200px;max-width: 100%;overflow: auto;}#sk-container-id-3 input.sk-toggleable__control:checked~label.sk-toggleable__label-arrow:before {content: \"▾\";}#sk-container-id-3 div.sk-estimator input.sk-toggleable__control:checked~label.sk-toggleable__label {background-color: #d4ebff;}#sk-container-id-3 div.sk-label input.sk-toggleable__control:checked~label.sk-toggleable__label {background-color: #d4ebff;}#sk-container-id-3 input.sk-hidden--visually {border: 0;clip: rect(1px 1px 1px 1px);clip: rect(1px, 1px, 1px, 1px);height: 1px;margin: -1px;overflow: hidden;padding: 0;position: absolute;width: 1px;}#sk-container-id-3 div.sk-estimator {font-family: monospace;background-color: #f0f8ff;border: 1px dotted black;border-radius: 0.25em;box-sizing: border-box;margin-bottom: 0.5em;}#sk-container-id-3 div.sk-estimator:hover {background-color: #d4ebff;}#sk-container-id-3 div.sk-parallel-item::after {content: \"\";width: 100%;border-bottom: 1px solid gray;flex-grow: 1;}#sk-container-id-3 div.sk-label:hover label.sk-toggleable__label {background-color: #d4ebff;}#sk-container-id-3 div.sk-serial::before {content: \"\";position: absolute;border-left: 1px solid gray;box-sizing: border-box;top: 0;bottom: 0;left: 50%;z-index: 0;}#sk-container-id-3 div.sk-serial {display: flex;flex-direction: column;align-items: center;background-color: white;padding-right: 0.2em;padding-left: 0.2em;position: relative;}#sk-container-id-3 div.sk-item {position: relative;z-index: 1;}#sk-container-id-3 div.sk-parallel {display: flex;align-items: stretch;justify-content: center;background-color: white;position: relative;}#sk-container-id-3 div.sk-item::before, #sk-container-id-3 div.sk-parallel-item::before {content: \"\";position: absolute;border-left: 1px solid gray;box-sizing: border-box;top: 0;bottom: 0;left: 50%;z-index: -1;}#sk-container-id-3 div.sk-parallel-item {display: flex;flex-direction: column;z-index: 1;position: relative;background-color: white;}#sk-container-id-3 div.sk-parallel-item:first-child::after {align-self: flex-end;width: 50%;}#sk-container-id-3 div.sk-parallel-item:last-child::after {align-self: flex-start;width: 50%;}#sk-container-id-3 div.sk-parallel-item:only-child::after {width: 0;}#sk-container-id-3 div.sk-dashed-wrapped {border: 1px dashed gray;margin: 0 0.4em 0.5em 0.4em;box-sizing: border-box;padding-bottom: 0.4em;background-color: white;}#sk-container-id-3 div.sk-label label {font-family: monospace;font-weight: bold;display: inline-block;line-height: 1.2em;}#sk-container-id-3 div.sk-label-container {text-align: center;}#sk-container-id-3 div.sk-container {/* jupyter's `normalize.less` sets `[hidden] { display: none; }` but bootstrap.min.css set `[hidden] { display: none !important; }` so we also need the `!important` here to be able to override the default hidden behavior on the sphinx rendered scikit-learn.org. See: https://github.com/scikit-learn/scikit-learn/issues/21755 */display: inline-block !important;position: relative;}#sk-container-id-3 div.sk-text-repr-fallback {display: none;}</style><div id=\"sk-container-id-3\" class=\"sk-top-container\"><div class=\"sk-text-repr-fallback\"><pre>XGBRegressor(base_score=0.5, booster=&#x27;gbtree&#x27;, callbacks=None,\n",
       "             colsample_bylevel=1, colsample_bynode=1, colsample_bytree=1,\n",
       "             early_stopping_rounds=50, enable_categorical=False,\n",
       "             eval_metric=None, gamma=0, gpu_id=-1, importance_type=None,\n",
       "             interaction_constraints=&#x27;&#x27;, learning_rate=0.01,\n",
       "             max_cat_to_onehot=4, max_delta_step=0, max_depth=3,\n",
       "             min_child_weight=1, missing=nan, monotone_constraints=&#x27;()&#x27;,\n",
       "             n_estimators=1000, n_jobs=12, num_parallel_tree=1,\n",
       "             objective=&#x27;reg:linear&#x27;, predictor=&#x27;auto&#x27;, random_state=0,\n",
       "             reg_alpha=0, reg_lambda=1, scale_pos_weight=1, subsample=1, ...)</pre><b>In a Jupyter environment, please rerun this cell to show the HTML representation or trust the notebook. <br />On GitHub, the HTML representation is unable to render, please try loading this page with nbviewer.org.</b></div><div class=\"sk-container\" hidden><div class=\"sk-item\"><div class=\"sk-estimator sk-toggleable\"><input class=\"sk-toggleable__control sk-hidden--visually\" id=\"sk-estimator-id-3\" type=\"checkbox\" checked><label for=\"sk-estimator-id-3\" class=\"sk-toggleable__label sk-toggleable__label-arrow\">XGBRegressor</label><div class=\"sk-toggleable__content\"><pre>XGBRegressor(base_score=0.5, booster=&#x27;gbtree&#x27;, callbacks=None,\n",
       "             colsample_bylevel=1, colsample_bynode=1, colsample_bytree=1,\n",
       "             early_stopping_rounds=50, enable_categorical=False,\n",
       "             eval_metric=None, gamma=0, gpu_id=-1, importance_type=None,\n",
       "             interaction_constraints=&#x27;&#x27;, learning_rate=0.01,\n",
       "             max_cat_to_onehot=4, max_delta_step=0, max_depth=3,\n",
       "             min_child_weight=1, missing=nan, monotone_constraints=&#x27;()&#x27;,\n",
       "             n_estimators=1000, n_jobs=12, num_parallel_tree=1,\n",
       "             objective=&#x27;reg:linear&#x27;, predictor=&#x27;auto&#x27;, random_state=0,\n",
       "             reg_alpha=0, reg_lambda=1, scale_pos_weight=1, subsample=1, ...)</pre></div></div></div></div></div>"
      ],
      "text/plain": [
       "XGBRegressor(base_score=0.5, booster='gbtree', callbacks=None,\n",
       "             colsample_bylevel=1, colsample_bynode=1, colsample_bytree=1,\n",
       "             early_stopping_rounds=50, enable_categorical=False,\n",
       "             eval_metric=None, gamma=0, gpu_id=-1, importance_type=None,\n",
       "             interaction_constraints='', learning_rate=0.01,\n",
       "             max_cat_to_onehot=4, max_delta_step=0, max_depth=3,\n",
       "             min_child_weight=1, missing=nan, monotone_constraints='()',\n",
       "             n_estimators=1000, n_jobs=12, num_parallel_tree=1,\n",
       "             objective='reg:linear', predictor='auto', random_state=0,\n",
       "             reg_alpha=0, reg_lambda=1, scale_pos_weight=1, subsample=1, ...)"
      ]
     },
     "execution_count": 63,
     "metadata": {},
     "output_type": "execute_result"
    }
   ],
   "source": [
    "reg = xgb.XGBRegressor(base_score=0.5, booster='gbtree',    \n",
    "                           n_estimators=1000,\n",
    "                           early_stopping_rounds=50,\n",
    "                           objective='reg:linear',\n",
    "                           max_depth=3,learning_rate=0.01)\n",
    "reg.fit(x_train, y_train,\n",
    "        eval_set=[(x_train, y_train), (x_test, y_test)],\n",
    "        verbose=100)"
   ]
  },
  {
   "cell_type": "code",
   "execution_count": 64,
   "id": "fa616fd4-0b6d-494b-9579-37ff38fd2ebf",
   "metadata": {
    "jupyter": {
     "source_hidden": true
    },
    "tags": []
   },
   "outputs": [
    {
     "data": {
      "text/plain": [
       "4175.68633517089"
      ]
     },
     "execution_count": 64,
     "metadata": {},
     "output_type": "execute_result"
    }
   ],
   "source": [
    "y_pred = reg.predict(x_test)\n",
    "y_test = np.expm1(y_test)\n",
    "y_pred = np.expm1(y_pred)\n",
    "score = np.sqrt(mean_squared_error(y_test, y_pred))\n",
    "score"
   ]
  },
  {
   "cell_type": "code",
   "execution_count": 65,
   "id": "3abb8e21-fc98-4d99-b9b7-e677e39fea41",
   "metadata": {},
   "outputs": [
    {
     "data": {
      "text/plain": [
       "0.8312131425144269"
      ]
     },
     "execution_count": 65,
     "metadata": {},
     "output_type": "execute_result"
    }
   ],
   "source": [
    "from sklearn.metrics import r2_score\n",
    "r2_score(y_test,y_pred)"
   ]
  },
  {
   "cell_type": "code",
   "execution_count": 67,
   "id": "de339b94-9e74-44a4-a402-c7215f9f8a9a",
   "metadata": {},
   "outputs": [],
   "source": [
    "df = pd.read_csv(\"Dataset.csv\")\n",
    "df = df.drop(['NYSE', 'NASDAQ', 'LSE', 'BTC_Volume', 'NYSE_Volume', 'NASDAQ_Volume', 'LSE_Volume'], axis = 1)\n",
    "df = df.set_index('Date')\n",
    "df.index = pd.to_datetime(df.index)"
   ]
  },
  {
   "cell_type": "code",
   "execution_count": 68,
   "id": "7505472e-cf11-4ff9-8e11-daff26726e44",
   "metadata": {},
   "outputs": [
    {
     "data": {
      "text/plain": [
       "(array([ 81.,  21., 125., 204., 251.,  41., 137.,  62., 173., 164.]),\n",
       " array([4.04315912, 4.08962751, 4.13609591, 4.1825643 , 4.22903269,\n",
       "        4.27550109, 4.32196948, 4.36843787, 4.41490626, 4.46137466,\n",
       "        4.50784305]),\n",
       " <BarContainer object of 10 artists>)"
      ]
     },
     "execution_count": 68,
     "metadata": {},
     "output_type": "execute_result"
    },
    {
     "data": {
      "image/png": "[encoded data removed]",
      "text/plain": [
       "<Figure size 640x480 with 1 Axes>"
      ]
     },
     "metadata": {},
     "output_type": "display_data"
    }
   ],
   "source": [
    "from scipy.stats import boxcox\n",
    "data, lam_bda = boxcox(df['BTC'])\n",
    "plt.hist(data)"
   ]
  },
  {
   "cell_type": "code",
   "execution_count": 69,
   "id": "dc9dfbe7-2400-457a-bd03-18ad30ac954a",
   "metadata": {},
   "outputs": [
    {
     "data": {
      "text/html": [
       "<div>\n",
       "<style scoped>\n",
       "    .dataframe tbody tr th:only-of-type {\n",
       "        vertical-align: middle;\n",
       "    }\n",
       "\n",
       "    .dataframe tbody tr th {\n",
       "        vertical-align: top;\n",
       "    }\n",
       "\n",
       "    .dataframe thead th {\n",
       "        text-align: right;\n",
       "    }\n",
       "</style>\n",
       "<table border=\"1\" class=\"dataframe\">\n",
       "  <thead>\n",
       "    <tr style=\"text-align: right;\">\n",
       "      <th></th>\n",
       "      <th>BTC</th>\n",
       "    </tr>\n",
       "    <tr>\n",
       "      <th>Date</th>\n",
       "      <th></th>\n",
       "    </tr>\n",
       "  </thead>\n",
       "  <tbody>\n",
       "    <tr>\n",
       "      <th>2018-01-02</th>\n",
       "      <td>4.311827</td>\n",
       "    </tr>\n",
       "    <tr>\n",
       "      <th>2018-01-03</th>\n",
       "      <td>4.314005</td>\n",
       "    </tr>\n",
       "    <tr>\n",
       "      <th>2018-01-04</th>\n",
       "      <td>4.317873</td>\n",
       "    </tr>\n",
       "    <tr>\n",
       "      <th>2018-01-05</th>\n",
       "      <td>4.334247</td>\n",
       "    </tr>\n",
       "    <tr>\n",
       "      <th>2018-01-08</th>\n",
       "      <td>4.313700</td>\n",
       "    </tr>\n",
       "  </tbody>\n",
       "</table>\n",
       "</div>"
      ],
      "text/plain": [
       "                 BTC\n",
       "Date                \n",
       "2018-01-02  4.311827\n",
       "2018-01-03  4.314005\n",
       "2018-01-04  4.317873\n",
       "2018-01-05  4.334247\n",
       "2018-01-08  4.313700"
      ]
     },
     "execution_count": 69,
     "metadata": {},
     "output_type": "execute_result"
    }
   ],
   "source": [
    "df['BTC'] = data \n",
    "df.head()"
   ]
  },
  {
   "cell_type": "code",
   "execution_count": 70,
   "id": "93f5a4af-a7bb-4fb5-beb8-4d192d531c9d",
   "metadata": {},
   "outputs": [
    {
     "data": {
      "text/html": [
       "<div>\n",
       "<style scoped>\n",
       "    .dataframe tbody tr th:only-of-type {\n",
       "        vertical-align: middle;\n",
       "    }\n",
       "\n",
       "    .dataframe tbody tr th {\n",
       "        vertical-align: top;\n",
       "    }\n",
       "\n",
       "    .dataframe thead th {\n",
       "        text-align: right;\n",
       "    }\n",
       "</style>\n",
       "<table border=\"1\" class=\"dataframe\">\n",
       "  <thead>\n",
       "    <tr style=\"text-align: right;\">\n",
       "      <th></th>\n",
       "      <th>BTC</th>\n",
       "      <th>moving_avg</th>\n",
       "      <th>ema_12</th>\n",
       "      <th>ema_26</th>\n",
       "      <th>macd</th>\n",
       "      <th>macd_signal</th>\n",
       "      <th>rsi</th>\n",
       "      <th>aroon_oscillator</th>\n",
       "    </tr>\n",
       "    <tr>\n",
       "      <th>Date</th>\n",
       "      <th></th>\n",
       "      <th></th>\n",
       "      <th></th>\n",
       "      <th></th>\n",
       "      <th></th>\n",
       "      <th></th>\n",
       "      <th></th>\n",
       "      <th></th>\n",
       "    </tr>\n",
       "  </thead>\n",
       "  <tbody>\n",
       "    <tr>\n",
       "      <th>2022-12-23</th>\n",
       "      <td>4.328831</td>\n",
       "      <td>4.330451</td>\n",
       "      <td>4.330099</td>\n",
       "      <td>4.331921</td>\n",
       "      <td>-0.001822</td>\n",
       "      <td>-0.002074</td>\n",
       "      <td>47.422805</td>\n",
       "      <td>-64.0</td>\n",
       "    </tr>\n",
       "    <tr>\n",
       "      <th>2022-12-27</th>\n",
       "      <td>4.328131</td>\n",
       "      <td>4.330675</td>\n",
       "      <td>4.329797</td>\n",
       "      <td>4.331641</td>\n",
       "      <td>-0.001844</td>\n",
       "      <td>-0.002028</td>\n",
       "      <td>44.559768</td>\n",
       "      <td>-64.0</td>\n",
       "    </tr>\n",
       "    <tr>\n",
       "      <th>2022-12-28</th>\n",
       "      <td>4.326673</td>\n",
       "      <td>4.330724</td>\n",
       "      <td>4.329316</td>\n",
       "      <td>4.331273</td>\n",
       "      <td>-0.001957</td>\n",
       "      <td>-0.002014</td>\n",
       "      <td>45.523933</td>\n",
       "      <td>-60.0</td>\n",
       "    </tr>\n",
       "    <tr>\n",
       "      <th>2022-12-29</th>\n",
       "      <td>4.327470</td>\n",
       "      <td>4.330495</td>\n",
       "      <td>4.329032</td>\n",
       "      <td>4.330991</td>\n",
       "      <td>-0.001959</td>\n",
       "      <td>-0.002003</td>\n",
       "      <td>40.362678</td>\n",
       "      <td>-48.0</td>\n",
       "    </tr>\n",
       "    <tr>\n",
       "      <th>2022-12-30</th>\n",
       "      <td>4.327118</td>\n",
       "      <td>4.330335</td>\n",
       "      <td>4.328738</td>\n",
       "      <td>4.330704</td>\n",
       "      <td>-0.001967</td>\n",
       "      <td>-0.001996</td>\n",
       "      <td>41.139918</td>\n",
       "      <td>-48.0</td>\n",
       "    </tr>\n",
       "  </tbody>\n",
       "</table>\n",
       "</div>"
      ],
      "text/plain": [
       "                 BTC  moving_avg    ema_12    ema_26      macd  macd_signal  \\\n",
       "Date                                                                          \n",
       "2022-12-23  4.328831    4.330451  4.330099  4.331921 -0.001822    -0.002074   \n",
       "2022-12-27  4.328131    4.330675  4.329797  4.331641 -0.001844    -0.002028   \n",
       "2022-12-28  4.326673    4.330724  4.329316  4.331273 -0.001957    -0.002014   \n",
       "2022-12-29  4.327470    4.330495  4.329032  4.330991 -0.001959    -0.002003   \n",
       "2022-12-30  4.327118    4.330335  4.328738  4.330704 -0.001967    -0.001996   \n",
       "\n",
       "                  rsi  aroon_oscillator  \n",
       "Date                                     \n",
       "2022-12-23  47.422805             -64.0  \n",
       "2022-12-27  44.559768             -64.0  \n",
       "2022-12-28  45.523933             -60.0  \n",
       "2022-12-29  40.362678             -48.0  \n",
       "2022-12-30  41.139918             -48.0  "
      ]
     },
     "execution_count": 70,
     "metadata": {},
     "output_type": "execute_result"
    }
   ],
   "source": [
    "df['moving_avg'] = df['BTC'].rolling(window = 20).mean()\n",
    "df['ema_12'] = df['BTC'].ewm(span = 12, adjust = False).mean()\n",
    "df['ema_26'] = df['BTC'].ewm(span = 26, adjust = False).mean()\n",
    "df['macd'] = df['ema_12'] - df['ema_26']\n",
    "df['macd_signal'] = df['macd'].ewm(span=9, adjust = False).mean()\n",
    "delta = df['BTC'].diff()\n",
    "gain = delta.where(delta > 0, 0)\n",
    "loss = -delta.where(delta < 0, 0)\n",
    "avg_gain = gain.rolling(window = 14).mean()\n",
    "avg_loss = loss.rolling(window = 14).mean()\n",
    "rs = avg_gain / avg_loss\n",
    "df['rsi'] = 100 - (100 / (1 + rs))\n",
    "aroon_up = 100 * ((25 - (df['BTC'].rolling(25).apply(lambda x: x.argmax() + 1))) / 25)\n",
    "aroon_down = 100 * ((25 - (df['BTC'].rolling(25).apply(lambda x: x.argmin() + 1))) / 25)\n",
    "df['aroon_oscillator'] = aroon_up - aroon_down\n",
    "df.tail()"
   ]
  },
  {
   "cell_type": "code",
   "execution_count": 71,
   "id": "76dbdcd0-252b-4679-b816-18f4aa2282e0",
   "metadata": {},
   "outputs": [],
   "source": [
    "target_map = df['BTC'].to_dict()\n",
    "df['BTC+1'] = (df.index + pd.Timedelta('1 days')).map(target_map)\n",
    "df['BTC+1'] = df['BTC+1'].fillna(method = 'ffill')"
   ]
  },
  {
   "cell_type": "code",
   "execution_count": 72,
   "id": "d79a897d-ec97-49e7-819c-91a19238e57f",
   "metadata": {},
   "outputs": [],
   "source": [
    "size = int(len(df) * 0.8)\n",
    "df_train = df.iloc[:size]\n",
    "df_test = df.iloc[size:]\n",
    "y_train = df_train['BTC+1']\n",
    "y_test = df_test['BTC+1']\n",
    "x_train = df_train.drop(['BTC', 'BTC+1'], axis =1)\n",
    "x_test = df_test.drop(['BTC','BTC+1'], axis = 1)"
   ]
  },
  {
   "cell_type": "code",
   "execution_count": 73,
   "id": "1024b8b7-3749-4188-ae79-9c96aa2bf636",
   "metadata": {},
   "outputs": [
    {
     "name": "stdout",
     "output_type": "stream",
     "text": [
      "[21:30:38] WARNING: /home/sat_bot/base/conda-bld/xgboost_1667827974456/work/src/objective/regression_obj.cu:198: reg:linear is now deprecated in favor of reg:squarederror.\n",
      "[0]\tvalidation_0-rmse:3.73781\tvalidation_1-rmse:3.85358\n",
      "[100]\tvalidation_0-rmse:1.37183\tvalidation_1-rmse:1.39865\n",
      "[200]\tvalidation_0-rmse:0.50404\tvalidation_1-rmse:0.49771\n",
      "[300]\tvalidation_0-rmse:0.18565\tvalidation_1-rmse:0.16843\n"
     ]
    },
    {
     "name": "stderr",
     "output_type": "stream",
     "text": [
      "/opt/intel/inteloneapi/intelpython/latest/lib/python3.9/site-packages/xgboost/data.py:267: FutureWarning: pandas.Int64Index is deprecated and will be removed from pandas in a future version. Use pandas.Index with the appropriate dtype instead.\n",
      "  elif isinstance(data.columns, (pd.Int64Index, pd.RangeIndex)):\n"
     ]
    },
    {
     "name": "stdout",
     "output_type": "stream",
     "text": [
      "[400]\tvalidation_0-rmse:0.06892\tvalidation_1-rmse:0.05283\n",
      "[500]\tvalidation_0-rmse:0.02651\tvalidation_1-rmse:0.01981\n",
      "[580]\tvalidation_0-rmse:0.01373\tvalidation_1-rmse:0.02010\n"
     ]
    },
    {
     "data": {
      "text/html": [
       "<style>#sk-container-id-4 {color: black;background-color: white;}#sk-container-id-4 pre{padding: 0;}#sk-container-id-4 div.sk-toggleable {background-color: white;}#sk-container-id-4 label.sk-toggleable__label {cursor: pointer;display: block;width: 100%;margin-bottom: 0;padding: 0.3em;box-sizing: border-box;text-align: center;}#sk-container-id-4 label.sk-toggleable__label-arrow:before {content: \"▸\";float: left;margin-right: 0.25em;color: #696969;}#sk-container-id-4 label.sk-toggleable__label-arrow:hover:before {color: black;}#sk-container-id-4 div.sk-estimator:hover label.sk-toggleable__label-arrow:before {color: black;}#sk-container-id-4 div.sk-toggleable__content {max-height: 0;max-width: 0;overflow: hidden;text-align: left;background-color: #f0f8ff;}#sk-container-id-4 div.sk-toggleable__content pre {margin: 0.2em;color: black;border-radius: 0.25em;background-color: #f0f8ff;}#sk-container-id-4 input.sk-toggleable__control:checked~div.sk-toggleable__content {max-height: 200px;max-width: 100%;overflow: auto;}#sk-container-id-4 input.sk-toggleable__control:checked~label.sk-toggleable__label-arrow:before {content: \"▾\";}#sk-container-id-4 div.sk-estimator input.sk-toggleable__control:checked~label.sk-toggleable__label {background-color: #d4ebff;}#sk-container-id-4 div.sk-label input.sk-toggleable__control:checked~label.sk-toggleable__label {background-color: #d4ebff;}#sk-container-id-4 input.sk-hidden--visually {border: 0;clip: rect(1px 1px 1px 1px);clip: rect(1px, 1px, 1px, 1px);height: 1px;margin: -1px;overflow: hidden;padding: 0;position: absolute;width: 1px;}#sk-container-id-4 div.sk-estimator {font-family: monospace;background-color: #f0f8ff;border: 1px dotted black;border-radius: 0.25em;box-sizing: border-box;margin-bottom: 0.5em;}#sk-container-id-4 div.sk-estimator:hover {background-color: #d4ebff;}#sk-container-id-4 div.sk-parallel-item::after {content: \"\";width: 100%;border-bottom: 1px solid gray;flex-grow: 1;}#sk-container-id-4 div.sk-label:hover label.sk-toggleable__label {background-color: #d4ebff;}#sk-container-id-4 div.sk-serial::before {content: \"\";position: absolute;border-left: 1px solid gray;box-sizing: border-box;top: 0;bottom: 0;left: 50%;z-index: 0;}#sk-container-id-4 div.sk-serial {display: flex;flex-direction: column;align-items: center;background-color: white;padding-right: 0.2em;padding-left: 0.2em;position: relative;}#sk-container-id-4 div.sk-item {position: relative;z-index: 1;}#sk-container-id-4 div.sk-parallel {display: flex;align-items: stretch;justify-content: center;background-color: white;position: relative;}#sk-container-id-4 div.sk-item::before, #sk-container-id-4 div.sk-parallel-item::before {content: \"\";position: absolute;border-left: 1px solid gray;box-sizing: border-box;top: 0;bottom: 0;left: 50%;z-index: -1;}#sk-container-id-4 div.sk-parallel-item {display: flex;flex-direction: column;z-index: 1;position: relative;background-color: white;}#sk-container-id-4 div.sk-parallel-item:first-child::after {align-self: flex-end;width: 50%;}#sk-container-id-4 div.sk-parallel-item:last-child::after {align-self: flex-start;width: 50%;}#sk-container-id-4 div.sk-parallel-item:only-child::after {width: 0;}#sk-container-id-4 div.sk-dashed-wrapped {border: 1px dashed gray;margin: 0 0.4em 0.5em 0.4em;box-sizing: border-box;padding-bottom: 0.4em;background-color: white;}#sk-container-id-4 div.sk-label label {font-family: monospace;font-weight: bold;display: inline-block;line-height: 1.2em;}#sk-container-id-4 div.sk-label-container {text-align: center;}#sk-container-id-4 div.sk-container {/* jupyter's `normalize.less` sets `[hidden] { display: none; }` but bootstrap.min.css set `[hidden] { display: none !important; }` so we also need the `!important` here to be able to override the default hidden behavior on the sphinx rendered scikit-learn.org. See: https://github.com/scikit-learn/scikit-learn/issues/21755 */display: inline-block !important;position: relative;}#sk-container-id-4 div.sk-text-repr-fallback {display: none;}</style><div id=\"sk-container-id-4\" class=\"sk-top-container\"><div class=\"sk-text-repr-fallback\"><pre>XGBRegressor(base_score=0.5, booster=&#x27;gbtree&#x27;, callbacks=None,\n",
       "             colsample_bylevel=1, colsample_bynode=1, colsample_bytree=1,\n",
       "             early_stopping_rounds=50, enable_categorical=False,\n",
       "             eval_metric=None, gamma=0, gpu_id=-1, importance_type=None,\n",
       "             interaction_constraints=&#x27;&#x27;, learning_rate=0.01,\n",
       "             max_cat_to_onehot=4, max_delta_step=0, max_depth=3,\n",
       "             min_child_weight=1, missing=nan, monotone_constraints=&#x27;()&#x27;,\n",
       "             n_estimators=1000, n_jobs=12, num_parallel_tree=1,\n",
       "             objective=&#x27;reg:linear&#x27;, predictor=&#x27;auto&#x27;, random_state=0,\n",
       "             reg_alpha=0, reg_lambda=1, scale_pos_weight=1, subsample=1, ...)</pre><b>In a Jupyter environment, please rerun this cell to show the HTML representation or trust the notebook. <br />On GitHub, the HTML representation is unable to render, please try loading this page with nbviewer.org.</b></div><div class=\"sk-container\" hidden><div class=\"sk-item\"><div class=\"sk-estimator sk-toggleable\"><input class=\"sk-toggleable__control sk-hidden--visually\" id=\"sk-estimator-id-4\" type=\"checkbox\" checked><label for=\"sk-estimator-id-4\" class=\"sk-toggleable__label sk-toggleable__label-arrow\">XGBRegressor</label><div class=\"sk-toggleable__content\"><pre>XGBRegressor(base_score=0.5, booster=&#x27;gbtree&#x27;, callbacks=None,\n",
       "             colsample_bylevel=1, colsample_bynode=1, colsample_bytree=1,\n",
       "             early_stopping_rounds=50, enable_categorical=False,\n",
       "             eval_metric=None, gamma=0, gpu_id=-1, importance_type=None,\n",
       "             interaction_constraints=&#x27;&#x27;, learning_rate=0.01,\n",
       "             max_cat_to_onehot=4, max_delta_step=0, max_depth=3,\n",
       "             min_child_weight=1, missing=nan, monotone_constraints=&#x27;()&#x27;,\n",
       "             n_estimators=1000, n_jobs=12, num_parallel_tree=1,\n",
       "             objective=&#x27;reg:linear&#x27;, predictor=&#x27;auto&#x27;, random_state=0,\n",
       "             reg_alpha=0, reg_lambda=1, scale_pos_weight=1, subsample=1, ...)</pre></div></div></div></div></div>"
      ],
      "text/plain": [
       "XGBRegressor(base_score=0.5, booster='gbtree', callbacks=None,\n",
       "             colsample_bylevel=1, colsample_bynode=1, colsample_bytree=1,\n",
       "             early_stopping_rounds=50, enable_categorical=False,\n",
       "             eval_metric=None, gamma=0, gpu_id=-1, importance_type=None,\n",
       "             interaction_constraints='', learning_rate=0.01,\n",
       "             max_cat_to_onehot=4, max_delta_step=0, max_depth=3,\n",
       "             min_child_weight=1, missing=nan, monotone_constraints='()',\n",
       "             n_estimators=1000, n_jobs=12, num_parallel_tree=1,\n",
       "             objective='reg:linear', predictor='auto', random_state=0,\n",
       "             reg_alpha=0, reg_lambda=1, scale_pos_weight=1, subsample=1, ...)"
      ]
     },
     "execution_count": 73,
     "metadata": {},
     "output_type": "execute_result"
    }
   ],
   "source": [
    "reg = xgb.XGBRegressor(base_score=0.5, booster='gbtree',    \n",
    "                           n_estimators=1000,\n",
    "                           early_stopping_rounds=50,\n",
    "                           objective='reg:linear',\n",
    "                           max_depth=3,learning_rate=0.01)\n",
    "reg.fit(x_train, y_train,\n",
    "        eval_set=[(x_train, y_train), (x_test, y_test)],\n",
    "        verbose=100)"
   ]
  },
  {
   "cell_type": "code",
   "execution_count": 74,
   "id": "578d5f5c-538b-4a59-8b52-725f8261792b",
   "metadata": {},
   "outputs": [
    {
     "data": {
      "text/plain": [
       "4147.233049544157"
      ]
     },
     "execution_count": 74,
     "metadata": {},
     "output_type": "execute_result"
    }
   ],
   "source": [
    "from scipy.special import inv_boxcox\n",
    "y_pred = reg.predict(x_test)\n",
    "y_test = inv_boxcox(y_test,lam_bda)\n",
    "y_pred = inv_boxcox(y_pred, lam_bda)\n",
    "score = np.sqrt(mean_squared_error(y_test, y_pred))\n",
    "score"
   ]
  },
  {
   "cell_type": "code",
   "execution_count": 75,
   "id": "6ab8cae1-6686-4599-a821-808098bd7c29",
   "metadata": {},
   "outputs": [
    {
     "data": {
      "text/html": [
       "<div>\n",
       "<style scoped>\n",
       "    .dataframe tbody tr th:only-of-type {\n",
       "        vertical-align: middle;\n",
       "    }\n",
       "\n",
       "    .dataframe tbody tr th {\n",
       "        vertical-align: top;\n",
       "    }\n",
       "\n",
       "    .dataframe thead th {\n",
       "        text-align: right;\n",
       "    }\n",
       "</style>\n",
       "<table border=\"1\" class=\"dataframe\">\n",
       "  <thead>\n",
       "    <tr style=\"text-align: right;\">\n",
       "      <th></th>\n",
       "      <th>Pred</th>\n",
       "      <th>Actual</th>\n",
       "    </tr>\n",
       "    <tr>\n",
       "      <th>Date</th>\n",
       "      <th></th>\n",
       "      <th></th>\n",
       "    </tr>\n",
       "  </thead>\n",
       "  <tbody>\n",
       "    <tr>\n",
       "      <th>2022-01-01</th>\n",
       "      <td>39248.378906</td>\n",
       "      <td>46306.44531</td>\n",
       "    </tr>\n",
       "    <tr>\n",
       "      <th>2022-01-04</th>\n",
       "      <td>38103.222656</td>\n",
       "      <td>45897.57422</td>\n",
       "    </tr>\n",
       "    <tr>\n",
       "      <th>2022-01-05</th>\n",
       "      <td>38099.738281</td>\n",
       "      <td>43569.00391</td>\n",
       "    </tr>\n",
       "    <tr>\n",
       "      <th>2022-01-06</th>\n",
       "      <td>37337.218750</td>\n",
       "      <td>43160.92969</td>\n",
       "    </tr>\n",
       "    <tr>\n",
       "      <th>2022-01-07</th>\n",
       "      <td>37433.304688</td>\n",
       "      <td>41557.90234</td>\n",
       "    </tr>\n",
       "    <tr>\n",
       "      <th>...</th>\n",
       "      <td>...</td>\n",
       "      <td>...</td>\n",
       "    </tr>\n",
       "    <tr>\n",
       "      <th>2022-12-24</th>\n",
       "      <td>15910.783203</td>\n",
       "      <td>16796.95313</td>\n",
       "    </tr>\n",
       "    <tr>\n",
       "      <th>2022-12-28</th>\n",
       "      <td>15692.584961</td>\n",
       "      <td>16552.57227</td>\n",
       "    </tr>\n",
       "    <tr>\n",
       "      <th>2022-12-29</th>\n",
       "      <td>15910.783203</td>\n",
       "      <td>16642.34180</td>\n",
       "    </tr>\n",
       "    <tr>\n",
       "      <th>2022-12-30</th>\n",
       "      <td>15667.804688</td>\n",
       "      <td>16602.58594</td>\n",
       "    </tr>\n",
       "    <tr>\n",
       "      <th>2022-12-31</th>\n",
       "      <td>15692.584961</td>\n",
       "      <td>16602.58594</td>\n",
       "    </tr>\n",
       "  </tbody>\n",
       "</table>\n",
       "<p>252 rows × 2 columns</p>\n",
       "</div>"
      ],
      "text/plain": [
       "                    Pred       Actual\n",
       "Date                                 \n",
       "2022-01-01  39248.378906  46306.44531\n",
       "2022-01-04  38103.222656  45897.57422\n",
       "2022-01-05  38099.738281  43569.00391\n",
       "2022-01-06  37337.218750  43160.92969\n",
       "2022-01-07  37433.304688  41557.90234\n",
       "...                  ...          ...\n",
       "2022-12-24  15910.783203  16796.95313\n",
       "2022-12-28  15692.584961  16552.57227\n",
       "2022-12-29  15910.783203  16642.34180\n",
       "2022-12-30  15667.804688  16602.58594\n",
       "2022-12-31  15692.584961  16602.58594\n",
       "\n",
       "[252 rows x 2 columns]"
      ]
     },
     "execution_count": 75,
     "metadata": {},
     "output_type": "execute_result"
    }
   ],
   "source": [
    "pred_vs_actual = pd.DataFrame(data = [y_pred, y_test]).T\n",
    "pred_vs_actual.columns = ['Pred', 'Actual']\n",
    "pred_vs_actual['Date'] = x_test.index + pd.Timedelta('1 days')\n",
    "pred_vs_actual = pred_vs_actual.set_index('Date')\n",
    "pred_vs_actual"
   ]
  },
  {
   "cell_type": "code",
   "execution_count": 76,
   "id": "cec7ef0d-e397-4ad8-a6a5-7cd6be1c0c9f",
   "metadata": {},
   "outputs": [
    {
     "data": {
      "text/plain": [
       "<AxesSubplot: xlabel='Date'>"
      ]
     },
     "execution_count": 76,
     "metadata": {},
     "output_type": "execute_result"
    },
    {
     "data": {
      "image/png": "[encoded data removed]",
      "text/plain": [
       "<Figure size 640x480 with 1 Axes>"
      ]
     },
     "metadata": {},
     "output_type": "display_data"
    }
   ],
   "source": [
    "sns.lineplot(data = pred_vs_actual)"
   ]
  },
  {
   "cell_type": "code",
   "execution_count": null,
   "id": "da69c224-5df3-4bc0-84d8-3e28ed96c557",
   "metadata": {},
   "outputs": [],
   "source": []
  }
 ],
 "metadata": {
  "kernelspec": {
   "display_name": "Python 3 (Intel® oneAPI 2023.0)",
   "language": "python",
   "name": "c009-intel_distribution_of_python_3_oneapi-beta05-python"
  },
  "language_info": {
   "codemirror_mode": {
    "name": "ipython",
    "version": 3
   },
   "file_extension": ".py",
   "mimetype": "text/x-python",
   "name": "python",
   "nbconvert_exporter": "python",
   "pygments_lexer": "ipython3",
   "version": "3.9.15"
  }
 },
 "nbformat": 4,
 "nbformat_minor": 5
}
